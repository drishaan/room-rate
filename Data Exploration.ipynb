{
 "cells": [
  {
   "cell_type": "code",
   "execution_count": 1,
   "id": "99d59d19",
   "metadata": {},
   "outputs": [],
   "source": [
    "import pandas as pd\n",
    "import string\n",
    "from collections import Counter"
   ]
  },
  {
   "cell_type": "code",
   "execution_count": 2,
   "id": "d0bc3d7f",
   "metadata": {},
   "outputs": [],
   "source": [
    "df = pd.read_csv(\"./data/cleaned.csv\")"
   ]
  },
  {
   "cell_type": "code",
   "execution_count": 4,
   "id": "bdcdd5c8",
   "metadata": {
    "scrolled": true
   },
   "outputs": [
    {
     "data": {
      "text/plain": [
       "<bound method NDFrame.head of        rating                                            cleaned  \\\n",
       "0           9  new view love art presentation perspective lig...   \n",
       "1           9  st paddy’s day edition great wall color maps a...   \n",
       "2          10  doors dublin dingus-the stuff dreams made nice...   \n",
       "3           9  good tight set up love blue art flag widen sho...   \n",
       "4           0  dark never escape stank wrong about everything...   \n",
       "...       ...                                                ...   \n",
       "12614       8      blue works not just books plus good use space   \n",
       "12615       2             “i’ll just put sweatpants” skype rooms   \n",
       "12616       3           books too dark little way personal style   \n",
       "12617       4  books always must little too obvious such well...   \n",
       "12618       2                              she’s not even trying   \n",
       "\n",
       "                                                  bigram  \\\n",
       "0      newview viewlove loveart artpresentation prese...   \n",
       "1      stpaddy paddy’ ’s sday dayedition editiongreat...   \n",
       "2      doorsdublin dublindingus-the dingus-thestuff s...   \n",
       "3      goodtight tightset setup uplove loveblue bluea...   \n",
       "4      darknever neverescape escapestank stankwrong w...   \n",
       "...                                                  ...   \n",
       "12614  blueworks worksnot notjust justbooks booksplus...   \n",
       "12615  “i i’ ’ll lljust justput putsweatpants sweatpa...   \n",
       "12616  bookstoo toodark darklittle littleway wayperso...   \n",
       "12617  booksalways alwaysmust mustlittle littletoo to...   \n",
       "12618                    she’ ’s snot noteven eventrying   \n",
       "\n",
       "                                                   tweet  \\\n",
       "0      New view. Love the art. Presentation. Perspect...   \n",
       "1      Room Rater St Paddy’s Day Edition. Great wall ...   \n",
       "2      Doors of Dublin. The Dingus-the stuff that dre...   \n",
       "3      Good tight set up. Love the blue. Art. Flag. W...   \n",
       "4      Dark. Will never escape the stank. Wrong about...   \n",
       "...                                                  ...   \n",
       "12614  The blue works. Not just books a plus. Good us...   \n",
       "12615  This is the “I’ll just put on sweatpants” of S...   \n",
       "12616  All books. Too dark. Little in way of personal...   \n",
       "12617  Books always a must but a little too obvious f...   \n",
       "12618  She’s not even trying. 2/10.  https://t.co/MrA...   \n",
       "\n",
       "                    created_at  replies_count  retweets_count  likes_count  \\\n",
       "0      2021-03-17 16:24:35 EDT              3               2           62   \n",
       "1      2021-03-17 15:25:51 EDT              2               2           57   \n",
       "2      2021-03-17 15:19:53 EDT              7               4          123   \n",
       "3      2021-03-17 13:46:47 EDT              1               1           60   \n",
       "4      2021-03-17 13:11:17 EDT             35              38          846   \n",
       "...                        ...            ...             ...          ...   \n",
       "12614  2020-04-11 16:08:35 EDT              5               3           66   \n",
       "12615  2020-04-11 15:48:31 EDT              2               5           97   \n",
       "12616  2020-04-11 14:32:57 EDT              4               6           54   \n",
       "12617  2020-04-11 14:05:56 EDT              8               2           63   \n",
       "12618  2020-04-11 12:41:22 EDT             25              15          221   \n",
       "\n",
       "                                               img_url  \n",
       "0      https://pbs.twimg.com/media/EwtT4E7UUAAgt5w.jpg  \n",
       "1      https://pbs.twimg.com/media/EwtGbzTUYAAxDiu.jpg  \n",
       "2      https://pbs.twimg.com/media/EwtFESHVEAEYlzv.jpg  \n",
       "3      https://pbs.twimg.com/media/EwsvwlOU8AQ5lOY.jpg  \n",
       "4      https://pbs.twimg.com/media/Ewsnoq5U8AMxxAg.jpg  \n",
       "...                                                ...  \n",
       "12614  https://pbs.twimg.com/media/EVWTqhXUwAARtMP.jpg  \n",
       "12615  https://pbs.twimg.com/media/EVWPEM6VAAEiqG7.jpg  \n",
       "12616  https://pbs.twimg.com/media/EVV9xLUU0AEQ8oa.jpg  \n",
       "12617  https://pbs.twimg.com/media/EVV3l5fUYAEim1s.jpg  \n",
       "12618  https://pbs.twimg.com/media/EVVkPRoUMAcPOdq.jpg  \n",
       "\n",
       "[12619 rows x 9 columns]>"
      ]
     },
     "execution_count": 4,
     "metadata": {},
     "output_type": "execute_result"
    }
   ],
   "source": [
    "# Check out the data\n",
    "df.head"
   ]
  },
  {
   "cell_type": "code",
   "execution_count": 5,
   "id": "17bdba83",
   "metadata": {},
   "outputs": [
    {
     "data": {
      "text/plain": [
       "(3616, 9)"
      ]
     },
     "execution_count": 5,
     "metadata": {},
     "output_type": "execute_result"
    }
   ],
   "source": [
    "df['cleaned'] = df['cleaned'].astype(str)\n",
    "rate_10 = df[df['rating'] == 10]\n",
    "rate_10.shape"
   ]
  },
  {
   "cell_type": "code",
   "execution_count": 7,
   "id": "cd3e11a8",
   "metadata": {
    "scrolled": false
   },
   "outputs": [
    {
     "data": {
      "text/plain": [
       "2        doorsdublin dublindingus-the dingus-thestuff s...\n",
       "5        stpaddy paddy’ ’s sday dayupdate update@ @phil...\n",
       "7        bookclub clublove loveart artlighting lighting...\n",
       "10       adoreart artwell wellcomposed composedstrong s...\n",
       "11       psacanada canada@ @brittlestar brittlestarreas...\n",
       "                               ...                        \n",
       "12484    perfect@ @beschlossdc beschlossdcfabulous fabu...\n",
       "12503    eleganttasteful tastefulone oneyou you’ ’d dex...\n",
       "12514    simpleunassuming unassumingoh ohfuk fukhe he’ ...\n",
       "12551    ok@ @steveschmidtses steveschmidtsesknows know...\n",
       "12581    onebest bestskype skyperooms roomsever evermad...\n",
       "Name: bigram, Length: 3616, dtype: object"
      ]
     },
     "execution_count": 7,
     "metadata": {},
     "output_type": "execute_result"
    }
   ],
   "source": [
    "rate_10['bigram']"
   ]
  },
  {
   "cell_type": "code",
   "execution_count": 8,
   "id": "92a02543",
   "metadata": {},
   "outputs": [],
   "source": [
    "def to_string(tweet):\n",
    "    return str(tweet)"
   ]
  },
  {
   "cell_type": "code",
   "execution_count": 9,
   "id": "e66a5ab6",
   "metadata": {},
   "outputs": [],
   "source": [
    "content_10_cleaned = ' '.join(rate_10['cleaned']).split()\n",
    "content_10_bigram = ' '.join(rate_10['bigram'].apply(to_string)).split()"
   ]
  },
  {
   "cell_type": "code",
   "execution_count": 10,
   "id": "20cbcdb3",
   "metadata": {
    "scrolled": false
   },
   "outputs": [
    {
     "data": {
      "text/plain": [
       "[('art', 809),\n",
       " ('love', 651),\n",
       " ('great', 551),\n",
       " ('plant', 332),\n",
       " ('lighting', 303),\n",
       " ('rooms', 300),\n",
       " ('depth', 289),\n",
       " ('skype', 287),\n",
       " ('update', 261),\n",
       " ('well', 240),\n",
       " ('flowers', 231),\n",
       " ('good', 196),\n",
       " ('pineapple', 184),\n",
       " ('new', 183),\n",
       " ('@brittlestar', 178),\n",
       " ('pillow', 176),\n",
       " ('one', 173),\n",
       " ('canada', 170),\n",
       " ('win', 166),\n",
       " ('books', 159)]"
      ]
     },
     "execution_count": 10,
     "metadata": {},
     "output_type": "execute_result"
    }
   ],
   "source": [
    "# Find most common words for cleaned\n",
    "counts_cleaned = Counter(content_10_cleaned)\n",
    "counts_cleaned.most_common(20)"
   ]
  },
  {
   "cell_type": "code",
   "execution_count": 11,
   "id": "693295b5",
   "metadata": {
    "scrolled": false
   },
   "outputs": [
    {
     "data": {
      "text/plain": [
       "[('’s', 477),\n",
       " ('skyperooms', 214),\n",
       " ('@brittlestar', 179),\n",
       " ('it’', 155),\n",
       " ('win@', 143),\n",
       " ('we’', 121),\n",
       " ('canada@', 110),\n",
       " ('update@', 103),\n",
       " ('setup', 101),\n",
       " ('historicskype', 95),\n",
       " ('psacanada', 94),\n",
       " ('happybirthday', 91),\n",
       " ('’t', 90),\n",
       " ('welllit', 72),\n",
       " ('@jheil', 71),\n",
       " ('loveart', 62),\n",
       " ('’re', 60),\n",
       " ('@clairecmc', 59),\n",
       " ('there’', 58),\n",
       " ('’ve', 57)]"
      ]
     },
     "execution_count": 11,
     "metadata": {},
     "output_type": "execute_result"
    }
   ],
   "source": [
    "# Find most common words for bigram\n",
    "counts_bigram = Counter(content_10_bigram)\n",
    "counts_bigram.most_common(20)"
   ]
  },
  {
   "cell_type": "code",
   "execution_count": 12,
   "id": "031b1059",
   "metadata": {
    "scrolled": true
   },
   "outputs": [
    {
     "data": {
      "text/plain": [
       "[('skyperooms', 214),\n",
       " ('@brittlestar', 179),\n",
       " ('setup', 101),\n",
       " ('historicskype', 95),\n",
       " ('psacanada', 94),\n",
       " ('happybirthday', 91),\n",
       " ('welllit', 72),\n",
       " ('@jheil', 71),\n",
       " ('loveart', 62),\n",
       " ('@clairecmc', 59),\n",
       " ('awards2020', 57),\n",
       " ('bornday', 56),\n",
       " ('@aweissmann', 51),\n",
       " ('nativeamerican', 49),\n",
       " ('holidayupdate', 49),\n",
       " ('@steveschmidtses', 46),\n",
       " ('2020nominees', 42),\n",
       " ('@philiprucker', 41),\n",
       " ('#wearamask', 41),\n",
       " ('artistsskype', 41)]"
      ]
     },
     "execution_count": 12,
     "metadata": {},
     "output_type": "execute_result"
    }
   ],
   "source": [
    "# remove the ones with ' and the ones wth @ at the end\n",
    "content_10_bigram = [x for x in content_10_bigram if (x[0] != \"’\" and x[-1] != \"’\" and x[-1] != \"@\")]\n",
    "counts_bigram = Counter(content_10_bigram)\n",
    "counts_bigram.most_common(20)"
   ]
  },
  {
   "cell_type": "code",
   "execution_count": 13,
   "id": "4559daf8",
   "metadata": {},
   "outputs": [
    {
     "data": {
      "text/plain": [
       "[('skyperooms', 214),\n",
       " ('setup', 101),\n",
       " ('historicskype', 95),\n",
       " ('psacanada', 94),\n",
       " ('happybirthday', 91),\n",
       " ('welllit', 72),\n",
       " ('loveart', 62),\n",
       " ('awards2020', 57),\n",
       " ('bornday', 56),\n",
       " ('nativeamerican', 49),\n",
       " ('holidayupdate', 49),\n",
       " ('2020nominees', 42),\n",
       " ('artistsskype', 41),\n",
       " ('greatartists', 40),\n",
       " ('artdepth', 39),\n",
       " ('artplant', 39),\n",
       " ('plantwork', 39),\n",
       " ('wellcomposed', 37),\n",
       " ('teeshirt', 37),\n",
       " ('greatdepth', 36)]"
      ]
     },
     "execution_count": 13,
     "metadata": {},
     "output_type": "execute_result"
    }
   ],
   "source": [
    "# remove hashtags and the tagged users\n",
    "content_10_bigram = [x for x in content_10_bigram if (x[0] != \"@\" and x[0] != \"#\")]\n",
    "counts_bigram = Counter(content_10_bigram)\n",
    "counts_bigram.most_common(20)"
   ]
  },
  {
   "cell_type": "code",
   "execution_count": 14,
   "id": "1aa3e31e",
   "metadata": {},
   "outputs": [
    {
     "data": {
      "text/plain": [
       "(704, 9)"
      ]
     },
     "execution_count": 14,
     "metadata": {},
     "output_type": "execute_result"
    }
   ],
   "source": [
    "# Repeat for lowest rating\n",
    "rate_0 = df[df['rating'] == 0]\n",
    "rate_0.shape"
   ]
  },
  {
   "cell_type": "code",
   "execution_count": 15,
   "id": "d28c30d8",
   "metadata": {},
   "outputs": [],
   "source": [
    "content_0_cleaned = ' '.join(rate_0['cleaned']).split()\n",
    "content_0_bigram = ' '.join(rate_0['bigram'].apply(to_string)).split()"
   ]
  },
  {
   "cell_type": "code",
   "execution_count": 16,
   "id": "946763c1",
   "metadata": {},
   "outputs": [
    {
     "data": {
      "text/plain": [
       "[('update', 76),\n",
       " ('hostage', 70),\n",
       " ('not', 63),\n",
       " ('video', 57),\n",
       " ('still', 57),\n",
       " ('no', 48),\n",
       " ('like', 48),\n",
       " ('one', 44),\n",
       " ('#cdnpoli', 41),\n",
       " ('too', 41),\n",
       " ('it’s', 36),\n",
       " ('dumb', 33),\n",
       " ('art', 32),\n",
       " ('nice', 30),\n",
       " ('flag', 28),\n",
       " ('pineapple', 28),\n",
       " ('don’t', 28),\n",
       " ('camera', 27),\n",
       " ('rotten', 25),\n",
       " ('canada', 24)]"
      ]
     },
     "execution_count": 16,
     "metadata": {},
     "output_type": "execute_result"
    }
   ],
   "source": [
    "# Find most common words\n",
    "counts_cleaned = Counter(content_0_cleaned)\n",
    "counts_cleaned.most_common(20)"
   ]
  },
  {
   "cell_type": "code",
   "execution_count": 17,
   "id": "447fa19b",
   "metadata": {},
   "outputs": [
    {
     "data": {
      "text/plain": [
       "[('’s', 125),\n",
       " ('’t', 107),\n",
       " ('hostagevideo', 54),\n",
       " ('#cdnpoli', 41),\n",
       " ('it’', 36),\n",
       " ('don’', 28),\n",
       " ('rottenpineapple', 25),\n",
       " ('update@', 24),\n",
       " ('you’', 18),\n",
       " ('he’', 17),\n",
       " ('@donaldjtrumpjr', 17),\n",
       " ('doesn’', 17),\n",
       " ('we’', 17),\n",
       " ('’re', 16),\n",
       " ('@cpc_hq', 15),\n",
       " ('pineappleupdate', 15),\n",
       " ('dumbdumb', 15),\n",
       " ('’ve', 13),\n",
       " ('@michellerempel', 13),\n",
       " ('@rudygiuliani', 13)]"
      ]
     },
     "execution_count": 17,
     "metadata": {},
     "output_type": "execute_result"
    }
   ],
   "source": [
    "counts_bigram = Counter(content_0_bigram)\n",
    "counts_bigram.most_common(20)"
   ]
  },
  {
   "cell_type": "code",
   "execution_count": 18,
   "id": "b30ddc63",
   "metadata": {},
   "outputs": [
    {
     "data": {
      "text/plain": [
       "[('hostagevideo', 54),\n",
       " ('#cdnpoli', 41),\n",
       " ('rottenpineapple', 25),\n",
       " ('@donaldjtrumpjr', 17),\n",
       " ('@cpc_hq', 15),\n",
       " ('pineappleupdate', 15),\n",
       " ('dumbdumb', 15),\n",
       " ('@michellerempel', 13),\n",
       " ('@rudygiuliani', 13),\n",
       " ('politicianupdate', 13),\n",
       " ('@erinotoole', 12),\n",
       " ('cdnpoli#', 12),\n",
       " ('@lindseygrahamsc', 12),\n",
       " ('#abpoli', 12),\n",
       " ('abpoli#', 12),\n",
       " ('cpc_hq#', 11),\n",
       " ('noone', 11),\n",
       " ('suntannedpolitician', 11),\n",
       " ('lookslike', 10),\n",
       " ('#blockedbyrempel', 10)]"
      ]
     },
     "execution_count": 18,
     "metadata": {},
     "output_type": "execute_result"
    }
   ],
   "source": [
    "# remove the ones with ' and the ones wth @ at the end\n",
    "content_0_bigram = [x for x in content_0_bigram if (x[0] != \"’\" and x[-1] != \"’\" and x[-1] != \"@\")]\n",
    "counts_bigram = Counter(content_0_bigram)\n",
    "counts_bigram.most_common(20)"
   ]
  },
  {
   "cell_type": "code",
   "execution_count": 19,
   "id": "b77a79f7",
   "metadata": {},
   "outputs": [
    {
     "data": {
      "text/plain": [
       "[('hostagevideo', 54),\n",
       " ('rottenpineapple', 25),\n",
       " ('pineappleupdate', 15),\n",
       " ('dumbdumb', 15),\n",
       " ('politicianupdate', 13),\n",
       " ('noone', 11),\n",
       " ('suntannedpolitician', 11),\n",
       " ('lookslike', 10),\n",
       " ('conspiracytheories', 9),\n",
       " ('cameraheight', 9),\n",
       " ('evangelicaljesus', 9),\n",
       " ('cordviolation', 8),\n",
       " ('evangelicalupdate', 8),\n",
       " ('raisecamera', 7),\n",
       " ('ohdear', 7),\n",
       " ('ownbook', 7),\n",
       " ('thelp', 7),\n",
       " ('updatedumb', 6),\n",
       " ('cameraangle', 6),\n",
       " ('copiesown', 6)]"
      ]
     },
     "execution_count": 19,
     "metadata": {},
     "output_type": "execute_result"
    }
   ],
   "source": [
    "# remove hashtags and the tagged users\n",
    "content_0_bigram = [x for x in content_0_bigram if (x[0] != \"@\" and x[0] != \"#\" and x[-1] != \"#\")]\n",
    "counts_bigram = Counter(content_0_bigram)\n",
    "counts_bigram.most_common(20)"
   ]
  },
  {
   "cell_type": "code",
   "execution_count": 20,
   "id": "c6e7f1eb",
   "metadata": {},
   "outputs": [
    {
     "name": "stdout",
     "output_type": "stream",
     "text": [
      "        likes_count             \n",
      "               mean   min    max\n",
      "rating                          \n",
      "-20      641.000000   641    641\n",
      "-14     2330.000000  2330   2330\n",
      "-12     1374.000000  1374   1374\n",
      "-11     2036.000000  2036   2036\n",
      "-10     1806.666667  1540   2170\n",
      "-9       471.000000   471    471\n",
      "-7       701.000000   701    701\n",
      "-4       534.000000   534    534\n",
      "-3      1574.166667   449   3145\n",
      "-2       754.500000   577    932\n",
      " 0      1738.991477    53  32354\n",
      " 1       600.764706    83   8297\n",
      " 2       510.466667    58  13933\n",
      " 3       370.018587    54   3279\n",
      " 4       338.078838    54   5619\n",
      " 5       256.231293    22   3278\n",
      " 6       219.546022     9   2577\n",
      " 7       217.671887     1   7856\n",
      " 8       268.574494    34   4144\n",
      " 9       447.737252    50  22315\n",
      " 10     1397.042035     4  48961\n",
      " 100    3487.000000  3487   3487\n",
      "       retweets_count            \n",
      "                 mean  min    max\n",
      "rating                           \n",
      "-20         59.000000   59     59\n",
      "-14        152.000000  152    152\n",
      "-12        156.000000  156    156\n",
      "-11         92.000000   92     92\n",
      "-10         48.666667   22     73\n",
      "-9          16.000000   16     16\n",
      "-7          32.000000   32     32\n",
      "-4          42.000000   42     42\n",
      "-3          82.333333   23    162\n",
      "-2          51.500000   47     56\n",
      " 0         117.599432    1   4658\n",
      " 1          27.329412    1    601\n",
      " 2          24.585965    1   1795\n",
      " 3          11.947955    1    246\n",
      " 4          10.887967    1    331\n",
      " 5           7.537415    0     93\n",
      " 6           6.026521    0    130\n",
      " 7           6.142431    0    881\n",
      " 8           6.746964    0    162\n",
      " 9          11.871545    0   1927\n",
      " 10         63.737279    0  10056\n",
      " 100       288.000000  288    288\n"
     ]
    }
   ],
   "source": [
    "# Explore engagement with high vs. low ratings\n",
    "likes = df.groupby(\"rating\").agg({'likes_count': ['mean', 'min', 'max']})\n",
    "retweets = df.groupby(\"rating\").agg({'retweets_count': ['mean', 'min', 'max']})\n",
    "\n",
    "print(likes)\n",
    "print(retweets)"
   ]
  },
  {
   "cell_type": "code",
   "execution_count": null,
   "id": "b784980a",
   "metadata": {},
   "outputs": [],
   "source": []
  },
  {
   "cell_type": "code",
   "execution_count": null,
   "id": "4a75fbb7",
   "metadata": {},
   "outputs": [],
   "source": []
  }
 ],
 "metadata": {
  "kernelspec": {
   "display_name": "Python 3",
   "language": "python",
   "name": "python3"
  },
  "language_info": {
   "codemirror_mode": {
    "name": "ipython",
    "version": 3
   },
   "file_extension": ".py",
   "mimetype": "text/x-python",
   "name": "python",
   "nbconvert_exporter": "python",
   "pygments_lexer": "ipython3",
   "version": "3.9.1"
  }
 },
 "nbformat": 4,
 "nbformat_minor": 5
}
