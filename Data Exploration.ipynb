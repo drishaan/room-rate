{
 "cells": [
  {
   "cell_type": "code",
   "execution_count": 1,
   "id": "6f624120",
   "metadata": {},
   "outputs": [],
   "source": [
    "import pandas as pd\n",
    "import string\n",
    "from collections import Counter"
   ]
  },
  {
   "cell_type": "code",
   "execution_count": 2,
   "id": "a8944e2b",
   "metadata": {},
   "outputs": [],
   "source": [
    "df = pd.read_csv(\"./data/cleaned.csv\")"
   ]
  },
  {
   "cell_type": "code",
   "execution_count": 3,
   "id": "e4fbcec0",
   "metadata": {
    "scrolled": true
   },
   "outputs": [
    {
     "output_type": "execute_result",
     "data": {
      "text/plain": [
       "<bound method NDFrame.head of        rating                                            cleaned  \\\n",
       "0           9  New view. Love the art. Presentation. Perspect...   \n",
       "1           9  Room Rater St Paddy’s Day Edition. Great wall ...   \n",
       "2          10  Doors of Dublin. The Dingus-the stuff that dre...   \n",
       "3           9  Good tight set up. Love the blue. Art. Flag. W...   \n",
       "4           0  Dark. Will never escape the stank. Wrong about...   \n",
       "...       ...                                                ...   \n",
       "12614       8  The blue works. Not just books a plus. Good us...   \n",
       "12615       2  This is the “I’ll just put on sweatpants” of S...   \n",
       "12616       3  All books. Too dark. Little in way of personal...   \n",
       "12617       4  Books always a must but a little too obvious f...   \n",
       "12618       2                         She’s not even trying. .     \n",
       "\n",
       "                                                   tweet  \\\n",
       "0      New view. Love the art. Presentation. Perspect...   \n",
       "1      Room Rater St Paddy’s Day Edition. Great wall ...   \n",
       "2      Doors of Dublin. The Dingus-the stuff that dre...   \n",
       "3      Good tight set up. Love the blue. Art. Flag. W...   \n",
       "4      Dark. Will never escape the stank. Wrong about...   \n",
       "...                                                  ...   \n",
       "12614  The blue works. Not just books a plus. Good us...   \n",
       "12615  This is the “I’ll just put on sweatpants” of S...   \n",
       "12616  All books. Too dark. Little in way of personal...   \n",
       "12617  Books always a must but a little too obvious f...   \n",
       "12618  She’s not even trying. 2/10.  https://t.co/MrA...   \n",
       "\n",
       "                    created_at  replies_count  retweets_count  likes_count  \\\n",
       "0      2021-03-17 16:24:35 EDT              3               2           62   \n",
       "1      2021-03-17 15:25:51 EDT              2               2           57   \n",
       "2      2021-03-17 15:19:53 EDT              7               4          123   \n",
       "3      2021-03-17 13:46:47 EDT              1               1           60   \n",
       "4      2021-03-17 13:11:17 EDT             35              38          846   \n",
       "...                        ...            ...             ...          ...   \n",
       "12614  2020-04-11 16:08:35 EDT              5               3           66   \n",
       "12615  2020-04-11 15:48:31 EDT              2               5           97   \n",
       "12616  2020-04-11 14:32:57 EDT              4               6           54   \n",
       "12617  2020-04-11 14:05:56 EDT              8               2           63   \n",
       "12618  2020-04-11 12:41:22 EDT             25              15          221   \n",
       "\n",
       "                                               img_url  \n",
       "0      https://pbs.twimg.com/media/EwtT4E7UUAAgt5w.jpg  \n",
       "1      https://pbs.twimg.com/media/EwtGbzTUYAAxDiu.jpg  \n",
       "2      https://pbs.twimg.com/media/EwtFESHVEAEYlzv.jpg  \n",
       "3      https://pbs.twimg.com/media/EwsvwlOU8AQ5lOY.jpg  \n",
       "4      https://pbs.twimg.com/media/Ewsnoq5U8AMxxAg.jpg  \n",
       "...                                                ...  \n",
       "12614  https://pbs.twimg.com/media/EVWTqhXUwAARtMP.jpg  \n",
       "12615  https://pbs.twimg.com/media/EVWPEM6VAAEiqG7.jpg  \n",
       "12616  https://pbs.twimg.com/media/EVV9xLUU0AEQ8oa.jpg  \n",
       "12617  https://pbs.twimg.com/media/EVV3l5fUYAEim1s.jpg  \n",
       "12618  https://pbs.twimg.com/media/EVVkPRoUMAcPOdq.jpg  \n",
       "\n",
       "[12619 rows x 8 columns]>"
      ]
     },
     "metadata": {},
     "execution_count": 3
    }
   ],
   "source": [
    "# Check out the data\n",
    "df.head"
   ]
  },
  {
   "cell_type": "code",
   "execution_count": 4,
   "id": "886917dc",
   "metadata": {},
   "outputs": [
    {
     "output_type": "execute_result",
     "data": {
      "text/plain": [
       "(3616, 8)"
      ]
     },
     "metadata": {},
     "execution_count": 4
    }
   ],
   "source": [
    "df['cleaned'] = df['cleaned'].astype(str)\n",
    "rate_10 = df[df['rating'] == 10]\n",
    "rate_10.shape"
   ]
  },
  {
   "cell_type": "code",
   "execution_count": 25,
   "id": "b5c1fbd6",
   "metadata": {},
   "outputs": [],
   "source": [
    "content_10 = ' '.join(rate_10['cleaned'])\n",
    "\n",
    "# Preprocess all tweet content\n",
    "content_10 = content_10.translate(str.maketrans('', '', string.punctuation)).lower().split()\n",
    "with open(\"stopwords\") as s:\n",
    "    stopwords = s.readlines()\n",
    "    stopwords.extend([\"room\", \"rater\"])\n",
    "\n",
    "stopwords = [word.strip() for word in stopwords]\n",
    "content_10 = [x for x in content_10 if x not in stopwords]"
   ]
  },
  {
   "cell_type": "code",
   "execution_count": 26,
   "id": "741cca8b",
   "metadata": {
    "scrolled": true
   },
   "outputs": [
    {
     "output_type": "execute_result",
     "data": {
      "text/plain": [
       "[('art', 809),\n",
       " ('love', 651),\n",
       " ('great', 551),\n",
       " ('plant', 332),\n",
       " ('lighting', 303),\n",
       " ('rooms', 300),\n",
       " ('depth', 289),\n",
       " ('skype', 287),\n",
       " ('update', 261),\n",
       " ('well', 240),\n",
       " ('flowers', 231),\n",
       " ('good', 196),\n",
       " ('pineapple', 184),\n",
       " ('new', 183),\n",
       " ('brittlestar', 180),\n",
       " ('pillow', 176),\n",
       " ('one', 175),\n",
       " ('canada', 170),\n",
       " ('win', 166),\n",
       " ('books', 159)]"
      ]
     },
     "metadata": {},
     "execution_count": 26
    }
   ],
   "source": [
    "# Find most common words\n",
    "counts = Counter(content_10)\n",
    "counts.most_common(20)"
   ]
  },
  {
   "cell_type": "code",
   "execution_count": 7,
   "id": "df94bfc8",
   "metadata": {},
   "outputs": [
    {
     "output_type": "execute_result",
     "data": {
      "text/plain": [
       "(704, 8)"
      ]
     },
     "metadata": {},
     "execution_count": 7
    }
   ],
   "source": [
    "# Repeat for lowest rating\n",
    "rate_0 = df[df['rating'] == 0]\n",
    "rate_0.shape"
   ]
  },
  {
   "cell_type": "code",
   "execution_count": 27,
   "id": "c10a9650",
   "metadata": {},
   "outputs": [],
   "source": [
    "content_0 = ' '.join(rate_0['cleaned'])\n",
    "\n",
    "# Preprocess all tweet content\n",
    "content_0 = content_0.translate(str.maketrans('', '', string.punctuation)).lower().split()\n",
    "with open(\"stopwords\") as s:\n",
    "    stopwords = s.readlines()\n",
    "    stopwords.extend([\"room\", \"rater\"])\n",
    "\n",
    "stopwords = [word.strip() for word in stopwords]\n",
    "content_0 = [x for x in content_0 if x not in stopwords]"
   ]
  },
  {
   "cell_type": "code",
   "execution_count": 28,
   "id": "6751db98",
   "metadata": {},
   "outputs": [
    {
     "output_type": "execute_result",
     "data": {
      "text/plain": [
       "[('update', 76),\n",
       " ('hostage', 70),\n",
       " ('not', 65),\n",
       " ('video', 57),\n",
       " ('still', 57),\n",
       " ('like', 49),\n",
       " ('no', 48),\n",
       " ('one', 44),\n",
       " ('cdnpoli', 41),\n",
       " ('too', 41),\n",
       " ('it’s', 36),\n",
       " ('dumb', 33),\n",
       " ('art', 32),\n",
       " ('nice', 30),\n",
       " ('flag', 28),\n",
       " ('pineapple', 28),\n",
       " ('don’t', 28),\n",
       " ('camera', 27),\n",
       " ('rotten', 25),\n",
       " ('canada', 24)]"
      ]
     },
     "metadata": {},
     "execution_count": 28
    }
   ],
   "source": [
    "# Find most common words\n",
    "counts = Counter(content_0)\n",
    "counts.most_common(20)"
   ]
  },
  {
   "cell_type": "code",
   "execution_count": null,
   "id": "77ffe6cf",
   "metadata": {},
   "outputs": [],
   "source": []
  }
 ],
 "metadata": {
  "kernelspec": {
   "display_name": "Python 3",
   "language": "python",
   "name": "python3"
  },
  "language_info": {
   "codemirror_mode": {
    "name": "ipython",
    "version": 3
   },
   "file_extension": ".py",
   "mimetype": "text/x-python",
   "name": "python",
   "nbconvert_exporter": "python",
   "pygments_lexer": "ipython3",
   "version": "3.6.9-final"
  }
 },
 "nbformat": 4,
 "nbformat_minor": 5
}