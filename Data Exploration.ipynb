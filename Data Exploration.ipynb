{
 "cells": [
  {
   "cell_type": "code",
   "execution_count": 1,
   "id": "7ef23e76",
   "metadata": {},
   "outputs": [],
   "source": [
    "import pandas as pd\n",
    "import string\n",
    "from collections import Counter"
   ]
  },
  {
   "cell_type": "code",
   "execution_count": 2,
   "id": "aa3ba37b",
   "metadata": {},
   "outputs": [],
   "source": [
    "df = pd.read_csv(\"./data/cleaned.csv\")"
   ]
  },
  {
   "cell_type": "code",
   "execution_count": 3,
   "id": "9a143909",
   "metadata": {
    "scrolled": true
   },
   "outputs": [
    {
     "data": {
      "text/plain": [
       "<bound method NDFrame.head of        rating                                            cleaned  \\\n",
       "0           9  new view love art presentation perspective lig...   \n",
       "1           9  st paddy’s day edition great wall color maps a...   \n",
       "2          10  doors dublin dingus-the stuff dreams made nice...   \n",
       "3           9  good tight set up love blue art flag widen sho...   \n",
       "4           0  dark never escape stank wrong about everything...   \n",
       "...       ...                                                ...   \n",
       "12614       8      blue works not just books plus good use space   \n",
       "12615       2             “i’ll just put sweatpants” skype rooms   \n",
       "12616       3           books too dark little way personal style   \n",
       "12617       4  books always must little too obvious such well...   \n",
       "12618       2                              she’s not even trying   \n",
       "\n",
       "                                                  bigram  \\\n",
       "0      newview viewlove loveart artpresentation prese...   \n",
       "1      stpaddy paddy’ ’s sday dayedition editiongreat...   \n",
       "2      doorsdublin dublindingus-the dingus-thestuff s...   \n",
       "3      goodtight tightset setup uplove loveblue bluea...   \n",
       "4      darknever neverescape escapestank stankwrong w...   \n",
       "...                                                  ...   \n",
       "12614  blueworks worksnot notjust justbooks booksplus...   \n",
       "12615  “i i’ ’ll lljust justput putsweatpants sweatpa...   \n",
       "12616  bookstoo toodark darklittle littleway wayperso...   \n",
       "12617  booksalways alwaysmust mustlittle littletoo to...   \n",
       "12618                    she’ ’s snot noteven eventrying   \n",
       "\n",
       "                                                   tweet  \\\n",
       "0      New view. Love the art. Presentation. Perspect...   \n",
       "1      Room Rater St Paddy’s Day Edition. Great wall ...   \n",
       "2      Doors of Dublin. The Dingus-the stuff that dre...   \n",
       "3      Good tight set up. Love the blue. Art. Flag. W...   \n",
       "4      Dark. Will never escape the stank. Wrong about...   \n",
       "...                                                  ...   \n",
       "12614  The blue works. Not just books a plus. Good us...   \n",
       "12615  This is the “I’ll just put on sweatpants” of S...   \n",
       "12616  All books. Too dark. Little in way of personal...   \n",
       "12617  Books always a must but a little too obvious f...   \n",
       "12618  She’s not even trying. 2/10.  https://t.co/MrA...   \n",
       "\n",
       "                    created_at  replies_count  retweets_count  likes_count  \\\n",
       "0      2021-03-17 16:24:35 EDT              3               2           62   \n",
       "1      2021-03-17 15:25:51 EDT              2               2           57   \n",
       "2      2021-03-17 15:19:53 EDT              7               4          123   \n",
       "3      2021-03-17 13:46:47 EDT              1               1           60   \n",
       "4      2021-03-17 13:11:17 EDT             35              38          846   \n",
       "...                        ...            ...             ...          ...   \n",
       "12614  2020-04-11 16:08:35 EDT              5               3           66   \n",
       "12615  2020-04-11 15:48:31 EDT              2               5           97   \n",
       "12616  2020-04-11 14:32:57 EDT              4               6           54   \n",
       "12617  2020-04-11 14:05:56 EDT              8               2           63   \n",
       "12618  2020-04-11 12:41:22 EDT             25              15          221   \n",
       "\n",
       "                                               img_url  \n",
       "0      https://pbs.twimg.com/media/EwtT4E7UUAAgt5w.jpg  \n",
       "1      https://pbs.twimg.com/media/EwtGbzTUYAAxDiu.jpg  \n",
       "2      https://pbs.twimg.com/media/EwtFESHVEAEYlzv.jpg  \n",
       "3      https://pbs.twimg.com/media/EwsvwlOU8AQ5lOY.jpg  \n",
       "4      https://pbs.twimg.com/media/Ewsnoq5U8AMxxAg.jpg  \n",
       "...                                                ...  \n",
       "12614  https://pbs.twimg.com/media/EVWTqhXUwAARtMP.jpg  \n",
       "12615  https://pbs.twimg.com/media/EVWPEM6VAAEiqG7.jpg  \n",
       "12616  https://pbs.twimg.com/media/EVV9xLUU0AEQ8oa.jpg  \n",
       "12617  https://pbs.twimg.com/media/EVV3l5fUYAEim1s.jpg  \n",
       "12618  https://pbs.twimg.com/media/EVVkPRoUMAcPOdq.jpg  \n",
       "\n",
       "[12619 rows x 9 columns]>"
      ]
     },
     "execution_count": 3,
     "metadata": {},
     "output_type": "execute_result"
    }
   ],
   "source": [
    "# Check out the data\n",
    "df.head"
   ]
  },
  {
   "cell_type": "code",
   "execution_count": 4,
   "id": "3e467ee1",
   "metadata": {},
   "outputs": [
    {
     "data": {
      "text/plain": [
       "(3616, 9)"
      ]
     },
     "execution_count": 4,
     "metadata": {},
     "output_type": "execute_result"
    }
   ],
   "source": [
    "df['cleaned'] = df['cleaned'].astype(str)\n",
    "rate_10 = df[df['rating'] == 10]\n",
    "rate_10.shape"
   ]
  },
  {
   "cell_type": "code",
   "execution_count": 5,
   "id": "4646b13c",
   "metadata": {},
   "outputs": [
    {
     "ename": "TypeError",
     "evalue": "sequence item 150: expected str instance, float found",
     "output_type": "error",
     "traceback": [
      "\u001b[0;31m---------------------------------------------------------------------------\u001b[0m",
      "\u001b[0;31mTypeError\u001b[0m                                 Traceback (most recent call last)",
      "\u001b[0;32m<ipython-input-5-836663661d59>\u001b[0m in \u001b[0;36m<module>\u001b[0;34m\u001b[0m\n\u001b[1;32m      1\u001b[0m \u001b[0mcontent_10\u001b[0m \u001b[0;34m=\u001b[0m \u001b[0;34m' '\u001b[0m\u001b[0;34m.\u001b[0m\u001b[0mjoin\u001b[0m\u001b[0;34m(\u001b[0m\u001b[0mrate_10\u001b[0m\u001b[0;34m[\u001b[0m\u001b[0;34m'cleaned'\u001b[0m\u001b[0;34m]\u001b[0m\u001b[0;34m)\u001b[0m\u001b[0;34m\u001b[0m\u001b[0;34m\u001b[0m\u001b[0m\n\u001b[0;32m----> 2\u001b[0;31m \u001b[0mcontent_10_bigrams\u001b[0m \u001b[0;34m=\u001b[0m \u001b[0;34m' '\u001b[0m\u001b[0;34m.\u001b[0m\u001b[0mjoin\u001b[0m\u001b[0;34m(\u001b[0m\u001b[0mrate_10\u001b[0m\u001b[0;34m[\u001b[0m\u001b[0;34m'bigram'\u001b[0m\u001b[0;34m]\u001b[0m\u001b[0;34m)\u001b[0m\u001b[0;34m\u001b[0m\u001b[0;34m\u001b[0m\u001b[0m\n\u001b[0m\u001b[1;32m      3\u001b[0m \u001b[0;34m\u001b[0m\u001b[0m\n\u001b[1;32m      4\u001b[0m \u001b[0;31m# Preprocess all tweet content\u001b[0m\u001b[0;34m\u001b[0m\u001b[0;34m\u001b[0m\u001b[0;34m\u001b[0m\u001b[0m\n\u001b[1;32m      5\u001b[0m \u001b[0mcontent_10\u001b[0m \u001b[0;34m=\u001b[0m \u001b[0mcontent_10\u001b[0m\u001b[0;34m.\u001b[0m\u001b[0mtranslate\u001b[0m\u001b[0;34m(\u001b[0m\u001b[0mstr\u001b[0m\u001b[0;34m.\u001b[0m\u001b[0mmaketrans\u001b[0m\u001b[0;34m(\u001b[0m\u001b[0;34m''\u001b[0m\u001b[0;34m,\u001b[0m \u001b[0;34m''\u001b[0m\u001b[0;34m,\u001b[0m \u001b[0mstring\u001b[0m\u001b[0;34m.\u001b[0m\u001b[0mpunctuation\u001b[0m\u001b[0;34m)\u001b[0m\u001b[0;34m)\u001b[0m\u001b[0;34m.\u001b[0m\u001b[0mlower\u001b[0m\u001b[0;34m(\u001b[0m\u001b[0;34m)\u001b[0m\u001b[0;34m.\u001b[0m\u001b[0msplit\u001b[0m\u001b[0;34m(\u001b[0m\u001b[0;34m)\u001b[0m\u001b[0;34m\u001b[0m\u001b[0;34m\u001b[0m\u001b[0m\n",
      "\u001b[0;31mTypeError\u001b[0m: sequence item 150: expected str instance, float found"
     ]
    }
   ],
   "source": [
    "content_10 = ' '.join(rate_10['cleaned'])\n",
    "content_10_bigrams = ' '.join(rate_10['bigram'])\n",
    "\n",
    "# Preprocess all tweet content\n",
    "content_10 = content_10.translate(str.maketrans('', '', string.punctuation)).lower().split()\n",
    "content_10_bigrams = content_10_bigrams.translate(str.maketrans('', '', string.punctuation)).lower().split()\n",
    "\n",
    "content_10 = [x for x in content_10]\n",
    "content_10_bigrams = []"
   ]
  },
  {
   "cell_type": "code",
   "execution_count": 6,
   "id": "0edf21c9",
   "metadata": {
    "scrolled": true
   },
   "outputs": [
    {
     "data": {
      "text/plain": [
       "[(' ', 35208),\n",
       " ('e', 23833),\n",
       " ('a', 18688),\n",
       " ('t', 16028),\n",
       " ('o', 15936),\n",
       " ('r', 15454),\n",
       " ('i', 14613),\n",
       " ('s', 14595),\n",
       " ('n', 13449),\n",
       " ('l', 12956),\n",
       " ('c', 8095),\n",
       " ('p', 7822),\n",
       " ('d', 7387),\n",
       " ('h', 6352),\n",
       " ('g', 5928),\n",
       " ('m', 5843),\n",
       " ('u', 5084),\n",
       " ('w', 4363),\n",
       " ('b', 4254),\n",
       " ('y', 3846)]"
      ]
     },
     "execution_count": 6,
     "metadata": {},
     "output_type": "execute_result"
    }
   ],
   "source": [
    "# Find most common words\n",
    "counts = Counter(content_10)\n",
    "counts.most_common(20)"
   ]
  },
  {
   "cell_type": "code",
   "execution_count": 7,
   "id": "719984e1",
   "metadata": {},
   "outputs": [
    {
     "data": {
      "text/plain": [
       "(704, 9)"
      ]
     },
     "execution_count": 7,
     "metadata": {},
     "output_type": "execute_result"
    }
   ],
   "source": [
    "# Repeat for lowest rating\n",
    "rate_0 = df[df['rating'] == 0]\n",
    "rate_0.shape"
   ]
  },
  {
   "cell_type": "code",
   "execution_count": 8,
   "id": "6a249c75",
   "metadata": {},
   "outputs": [],
   "source": [
    "content_0 = ' '.join(rate_0['cleaned'])\n",
    "\n",
    "# Preprocess all tweet content\n",
    "content_0 = content_0.translate(str.maketrans('', '', string.punctuation)).lower().split()\n",
    "with open(\"stopwords\") as s:\n",
    "    stopwords = s.readlines()\n",
    "    stopwords.extend([\"room\", \"rater\"])\n",
    "\n",
    "stopwords = [word.strip() for word in stopwords]\n",
    "content_0 = [x for x in content_0 if x not in stopwords]"
   ]
  },
  {
   "cell_type": "code",
   "execution_count": 9,
   "id": "1cfd8111",
   "metadata": {},
   "outputs": [
    {
     "data": {
      "text/plain": [
       "[('update', 76),\n",
       " ('hostage', 70),\n",
       " ('not', 65),\n",
       " ('video', 57),\n",
       " ('still', 57),\n",
       " ('like', 49),\n",
       " ('no', 48),\n",
       " ('one', 44),\n",
       " ('cdnpoli', 41),\n",
       " ('too', 41),\n",
       " ('it’s', 36),\n",
       " ('dumb', 33),\n",
       " ('art', 32),\n",
       " ('nice', 30),\n",
       " ('flag', 28),\n",
       " ('pineapple', 28),\n",
       " ('don’t', 28),\n",
       " ('camera', 27),\n",
       " ('rotten', 25),\n",
       " ('canada', 24)]"
      ]
     },
     "execution_count": 9,
     "metadata": {},
     "output_type": "execute_result"
    }
   ],
   "source": [
    "# Find most common words\n",
    "counts = Counter(content_0)\n",
    "counts.most_common(20)"
   ]
  },
  {
   "cell_type": "code",
   "execution_count": 10,
   "id": "7c71c23b",
   "metadata": {},
   "outputs": [
    {
     "name": "stdout",
     "output_type": "stream",
     "text": [
      "        likes_count             \n",
      "               mean   min    max\n",
      "rating                          \n",
      "-20      641.000000   641    641\n",
      "-14     2330.000000  2330   2330\n",
      "-12     1374.000000  1374   1374\n",
      "-11     2036.000000  2036   2036\n",
      "-10     1806.666667  1540   2170\n",
      "-9       471.000000   471    471\n",
      "-7       701.000000   701    701\n",
      "-4       534.000000   534    534\n",
      "-3      1574.166667   449   3145\n",
      "-2       754.500000   577    932\n",
      " 0      1738.991477    53  32354\n",
      " 1       600.764706    83   8297\n",
      " 2       510.466667    58  13933\n",
      " 3       370.018587    54   3279\n",
      " 4       338.078838    54   5619\n",
      " 5       256.231293    22   3278\n",
      " 6       219.546022     9   2577\n",
      " 7       217.671887     1   7856\n",
      " 8       268.574494    34   4144\n",
      " 9       447.737252    50  22315\n",
      " 10     1397.042035     4  48961\n",
      " 100    3487.000000  3487   3487\n",
      "       retweets_count            \n",
      "                 mean  min    max\n",
      "rating                           \n",
      "-20         59.000000   59     59\n",
      "-14        152.000000  152    152\n",
      "-12        156.000000  156    156\n",
      "-11         92.000000   92     92\n",
      "-10         48.666667   22     73\n",
      "-9          16.000000   16     16\n",
      "-7          32.000000   32     32\n",
      "-4          42.000000   42     42\n",
      "-3          82.333333   23    162\n",
      "-2          51.500000   47     56\n",
      " 0         117.599432    1   4658\n",
      " 1          27.329412    1    601\n",
      " 2          24.585965    1   1795\n",
      " 3          11.947955    1    246\n",
      " 4          10.887967    1    331\n",
      " 5           7.537415    0     93\n",
      " 6           6.026521    0    130\n",
      " 7           6.142431    0    881\n",
      " 8           6.746964    0    162\n",
      " 9          11.871545    0   1927\n",
      " 10         63.737279    0  10056\n",
      " 100       288.000000  288    288\n"
     ]
    }
   ],
   "source": [
    "# Explore engagement with high vs. low ratings\n",
    "likes = df.groupby(\"rating\").agg({'likes_count': ['mean', 'min', 'max']})\n",
    "retweets = df.groupby(\"rating\").agg({'retweets_count': ['mean', 'min', 'max']})\n",
    "\n",
    "print(likes)\n",
    "print(retweets)"
   ]
  },
  {
   "cell_type": "code",
   "execution_count": null,
   "id": "681ee83d",
   "metadata": {},
   "outputs": [],
   "source": []
  }
 ],
 "metadata": {
  "kernelspec": {
   "display_name": "Python 3",
   "language": "python",
   "name": "python3"
  },
  "language_info": {
   "codemirror_mode": {
    "name": "ipython",
    "version": 3
   },
   "file_extension": ".py",
   "mimetype": "text/x-python",
   "name": "python",
   "nbconvert_exporter": "python",
   "pygments_lexer": "ipython3",
   "version": "3.9.1"
  }
 },
 "nbformat": 4,
 "nbformat_minor": 5
}
