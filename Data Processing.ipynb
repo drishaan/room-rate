{
 "cells": [
  {
   "cell_type": "code",
   "execution_count": 152,
   "metadata": {},
   "outputs": [],
   "source": [
    "import pandas as pd\n",
    "import matplotlib.pyplot as plt\n",
    "import seaborn as sns\n",
    "import string\n",
    "import nltk\n",
    "from nltk import word_tokenize\n",
    "from nltk.util import ngrams\n",
    "import re\n",
    "import json\n",
    "sns.set()"
   ]
  },
  {
   "cell_type": "code",
   "execution_count": 153,
   "metadata": {},
   "outputs": [
    {
     "name": "stderr",
     "output_type": "stream",
     "text": [
      "[nltk_data] Downloading package punkt to\n",
      "[nltk_data]     C:\\Users\\lumos\\AppData\\Roaming\\nltk_data...\n",
      "[nltk_data]   Package punkt is already up-to-date!\n"
     ]
    },
    {
     "data": {
      "text/plain": [
       "True"
      ]
     },
     "execution_count": 153,
     "metadata": {},
     "output_type": "execute_result"
    }
   ],
   "source": [
    "nltk.download('punkt')"
   ]
  },
  {
   "cell_type": "code",
   "execution_count": 154,
   "metadata": {},
   "outputs": [],
   "source": [
    "df = pd.read_csv(\"./data/output.csv\", delimiter=\"\\t\")"
   ]
  },
  {
   "cell_type": "code",
   "execution_count": 155,
   "metadata": {},
   "outputs": [],
   "source": [
    "rating_pattern = re.compile(r\"((- ?)?\\d+)/10\")"
   ]
  },
  {
   "cell_type": "code",
   "execution_count": 156,
   "metadata": {},
   "outputs": [],
   "source": [
    "def is_rating(tweet):\n",
    "    match = rating_pattern.search(tweet)\n",
    "    return match is not None"
   ]
  },
  {
   "cell_type": "code",
   "execution_count": 157,
   "metadata": {},
   "outputs": [],
   "source": [
    "def get_rating(tweet):\n",
    "    match = rating_pattern.search(tweet)\n",
    "    return int(\"\".join(match.group(1).split()))"
   ]
  },
  {
   "cell_type": "code",
   "execution_count": 158,
   "metadata": {},
   "outputs": [],
   "source": [
    "def strip_ratings(tweet):\n",
    "    tweet = re.sub(rating_pattern, \"\", tweet)\n",
    "    tweet = re.sub(\"[Mm]inus\", \"\", tweet)\n",
    "    return tweet"
   ]
  },
  {
   "cell_type": "code",
   "execution_count": 159,
   "metadata": {},
   "outputs": [],
   "source": [
    "def strip_links(tweet):\n",
    "    tweet = re.sub(\"https?://t.co/\\w+\", \"\", tweet)\n",
    "    return tweet"
   ]
  },
  {
   "cell_type": "code",
   "execution_count": 160,
   "metadata": {},
   "outputs": [],
   "source": [
    "with open('stopwords', 'r') as f:\n",
    "    stopwords = f.readlines()\n",
    "    stopwords.extend([\"room\", \"rater\"])\n",
    "    stopwords = {word.strip() for word in stopwords}"
   ]
  },
  {
   "cell_type": "code",
   "execution_count": 161,
   "metadata": {},
   "outputs": [],
   "source": [
    "def strip_stopwords(tweet):\n",
    "    tweet_list = tweet.split()\n",
    "    return ' '.join([i for i in tweet_list if i not in stopwords])"
   ]
  },
  {
   "cell_type": "code",
   "execution_count": 162,
   "metadata": {},
   "outputs": [],
   "source": [
    "# Strip out punctuation at end of words and make every word lowercase\n",
    "def strip_end_punctuation_and_lower(tweet):\n",
    "    tweet_list = tweet.split()\n",
    "    return ' '.join([i.lower().rstrip(string.punctuation) for i in tweet_list])"
   ]
  },
  {
   "cell_type": "code",
   "execution_count": 163,
   "metadata": {},
   "outputs": [],
   "source": [
    "def bigramed(tweet):\n",
    "    token = nltk.word_tokenize(tweet)\n",
    "    bigrams = ngrams(token, 2)\n",
    "    return ' '.join([i[0]+i[1] for i in bigrams])"
   ]
  },
  {
   "cell_type": "code",
   "execution_count": 164,
   "metadata": {},
   "outputs": [],
   "source": [
    "def preprocess_tweet(tweet):\n",
    "    tweet = strip_ratings(tweet)\n",
    "    tweet = strip_links(tweet)\n",
    "    return tweet"
   ]
  },
  {
   "cell_type": "code",
   "execution_count": 165,
   "metadata": {},
   "outputs": [],
   "source": [
    "def preprocess_tweet_stopwords(tweet):\n",
    "    tweet = strip_ratings(tweet)\n",
    "    tweet = strip_links(tweet)\n",
    "    tweet = strip_end_punctuation_and_lower(tweet)\n",
    "    tweet = strip_stopwords(tweet)\n",
    "    return tweet"
   ]
  },
  {
   "cell_type": "code",
   "execution_count": 181,
   "metadata": {},
   "outputs": [
    {
     "data": {
      "text/plain": [
       "19353"
      ]
     },
     "execution_count": 181,
     "metadata": {},
     "output_type": "execute_result"
    }
   ],
   "source": [
    "len(df)"
   ]
  },
  {
   "cell_type": "code",
   "execution_count": 169,
   "metadata": {},
   "outputs": [
    {
     "name": "stderr",
     "output_type": "stream",
     "text": [
      "<ipython-input-169-4b6bffdfbdbe>:3: SettingWithCopyWarning: \n",
      "A value is trying to be set on a copy of a slice from a DataFrame.\n",
      "Try using .loc[row_indexer,col_indexer] = value instead\n",
      "\n",
      "See the caveats in the documentation: https://pandas.pydata.org/pandas-docs/stable/user_guide/indexing.html#returning-a-view-versus-a-copy\n",
      "  rating_tweets[\"rating\"] = rating_tweets.tweet.apply(get_rating)\n",
      "<ipython-input-169-4b6bffdfbdbe>:5: SettingWithCopyWarning: \n",
      "A value is trying to be set on a copy of a slice from a DataFrame.\n",
      "Try using .loc[row_indexer,col_indexer] = value instead\n",
      "\n",
      "See the caveats in the documentation: https://pandas.pydata.org/pandas-docs/stable/user_guide/indexing.html#returning-a-view-versus-a-copy\n",
      "  rating_tweets[\"cleaned\"] = rating_tweets.tweet.apply(preprocess_tweet)\n",
      "<ipython-input-169-4b6bffdfbdbe>:6: SettingWithCopyWarning: \n",
      "A value is trying to be set on a copy of a slice from a DataFrame.\n",
      "Try using .loc[row_indexer,col_indexer] = value instead\n",
      "\n",
      "See the caveats in the documentation: https://pandas.pydata.org/pandas-docs/stable/user_guide/indexing.html#returning-a-view-versus-a-copy\n",
      "  rating_tweets[\"no_stopwords\"] = rating_tweets.tweet.apply(preprocess_tweet_stopwords)\n",
      "<ipython-input-169-4b6bffdfbdbe>:7: SettingWithCopyWarning: \n",
      "A value is trying to be set on a copy of a slice from a DataFrame.\n",
      "Try using .loc[row_indexer,col_indexer] = value instead\n",
      "\n",
      "See the caveats in the documentation: https://pandas.pydata.org/pandas-docs/stable/user_guide/indexing.html#returning-a-view-versus-a-copy\n",
      "  rating_tweets[\"bigram\"] = rating_tweets.tweet.apply(preprocess_tweet_stopwords).apply(bigramed)\n",
      "<ipython-input-169-4b6bffdfbdbe>:8: SettingWithCopyWarning: \n",
      "A value is trying to be set on a copy of a slice from a DataFrame.\n",
      "Try using .loc[row_indexer,col_indexer] = value instead\n",
      "\n",
      "See the caveats in the documentation: https://pandas.pydata.org/pandas-docs/stable/user_guide/indexing.html#returning-a-view-versus-a-copy\n",
      "  rating_tweets[\"img_url\"] = rating_tweets.photos.apply(eval).apply(lambda x: x[0] if len(x) > 0 else None)\n"
     ]
    }
   ],
   "source": [
    "df[\"is_rating_tweet\"] = df.tweet.apply(is_rating)\n",
    "rating_tweets = df[df[\"is_rating_tweet\"] & df[\"reply_to\"].eq(\"[]\")]\n",
    "rating_tweets[\"rating\"] = rating_tweets.tweet.apply(get_rating)\n",
    "# rating_tweets[\"cleaned\"] = rating_tweets.tweet.apply(strip_ratings).apply(strip_links).apply(strip_stopwords)\n",
    "rating_tweets[\"cleaned\"] = rating_tweets.tweet.apply(preprocess_tweet)\n",
    "rating_tweets[\"no_stopwords\"] = rating_tweets.tweet.apply(preprocess_tweet_stopwords)\n",
    "rating_tweets[\"bigram\"] = rating_tweets.tweet.apply(preprocess_tweet_stopwords).apply(bigramed)\n",
    "rating_tweets[\"img_url\"] = rating_tweets.photos.apply(eval).apply(lambda x: x[0] if len(x) > 0 else None)"
   ]
  },
  {
   "cell_type": "code",
   "execution_count": 173,
   "metadata": {},
   "outputs": [],
   "source": [
    "rating_tweets[[\n",
    "    \"rating\",\n",
    "    \"cleaned\",\n",
    "    \"no_stopwords\",\n",
    "    \"bigram\",\n",
    "    \"tweet\",\n",
    "    \"created_at\",\n",
    "    \"replies_count\",\n",
    "    \"retweets_count\",\n",
    "    \"likes_count\",\n",
    "    \"img_url\"\n",
    "]].to_csv(\"data/cleaned.csv\", index=False)"
   ]
  },
  {
   "cell_type": "code",
   "execution_count": 182,
   "metadata": {},
   "outputs": [
    {
     "data": {
      "text/plain": [
       "12619"
      ]
     },
     "execution_count": 182,
     "metadata": {},
     "output_type": "execute_result"
    }
   ],
   "source": [
    "len(rating_tweets)"
   ]
  },
  {
   "cell_type": "code",
   "execution_count": 174,
   "metadata": {},
   "outputs": [],
   "source": [
    "rating_tweets[\"img_url\"].to_csv(\"data/images.csv\", index=False)"
   ]
  },
  {
   "cell_type": "code",
   "execution_count": 175,
   "metadata": {},
   "outputs": [
    {
     "data": {
      "image/png": "[encoded data removed]",
      "text/plain": [
       "<Figure size 432x288 with 1 Axes>"
      ]
     },
     "metadata": {},
     "output_type": "display_data"
    }
   ],
   "source": [
    "plt.figure()\n",
    "plt.title(\"Distribution of ratings\")\n",
    "rating_tweets.rating.sort_values()[:-1].hist(bins=30)\n",
    "plt.savefig(\"./figures/rating_distribution.pdf\")"
   ]
  },
  {
   "cell_type": "code",
   "execution_count": 176,
   "metadata": {},
   "outputs": [
    {
     "data": {
      "text/plain": [
       "count    12619.000000\n",
       "mean         7.625485\n",
       "std          2.940338\n",
       "min        -20.000000\n",
       "25%          7.000000\n",
       "50%          8.000000\n",
       "75%         10.000000\n",
       "max        100.000000\n",
       "Name: rating, dtype: float64"
      ]
     },
     "execution_count": 176,
     "metadata": {},
     "output_type": "execute_result"
    }
   ],
   "source": [
    "rating_tweets.rating.describe()"
   ]
  },
  {
   "cell_type": "code",
   "execution_count": 177,
   "metadata": {
    "scrolled": true
   },
   "outputs": [
    {
     "data": {
      "text/plain": [
       "'Doors of Dublin. The Dingus-the stuff that dreams are made of. Nice pineapple. Old school distributer lamp.  #jimcavanaugh  '"
      ]
     },
     "execution_count": 177,
     "metadata": {},
     "output_type": "execute_result"
    }
   ],
   "source": [
    "rating_tweets[\"cleaned\"][6]"
   ]
  },
  {
   "cell_type": "code",
   "execution_count": 179,
   "metadata": {},
   "outputs": [
    {
     "data": {
      "text/plain": [
       "'doors dublin dingus-the stuff dreams made nice pineapple old school distributer lamp #jimcavanaugh'"
      ]
     },
     "execution_count": 179,
     "metadata": {},
     "output_type": "execute_result"
    }
   ],
   "source": [
    "rating_tweets[\"no_stopwords\"][6]"
   ]
  },
  {
   "cell_type": "code",
   "execution_count": 180,
   "metadata": {},
   "outputs": [
    {
     "data": {
      "text/plain": [
       "'doorsdublin dublindingus-the dingus-thestuff stuffdreams dreamsmade madenice nicepineapple pineappleold oldschool schooldistributer distributerlamp lamp# #jimcavanaugh'"
      ]
     },
     "execution_count": 180,
     "metadata": {},
     "output_type": "execute_result"
    }
   ],
   "source": [
    "rating_tweets[\"bigram\"][6]"
   ]
  },
  {
   "cell_type": "code",
   "execution_count": null,
   "metadata": {},
   "outputs": [],
   "source": []
  }
 ],
 "metadata": {
  "kernelspec": {
   "display_name": "Python 3",
   "language": "python",
   "name": "python3"
  },
  "language_info": {
   "codemirror_mode": {
    "name": "ipython",
    "version": 3
   },
   "file_extension": ".py",
   "mimetype": "text/x-python",
   "name": "python",
   "nbconvert_exporter": "python",
   "pygments_lexer": "ipython3",
   "version": "3.8.3"
  }
 },
 "nbformat": 4,
 "nbformat_minor": 5
}
