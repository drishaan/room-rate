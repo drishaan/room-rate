{
 "cells": [
  {
   "cell_type": "code",
   "execution_count": 1,
   "metadata": {},
   "outputs": [],
   "source": [
    "import re\n",
    "\n",
    "import pandas as pd\n",
    "import numpy as np\n",
    "import matplotlib.pyplot as plt\n",
    "import seaborn as sns\n",
    "\n",
    "from sklearn.svm import LinearSVC\n",
    "from sklearn.linear_model import LogisticRegression\n",
    "from sklearn.naive_bayes import MultinomialNB\n",
    "from sklearn.feature_extraction.text import CountVectorizer\n",
    "from sklearn.model_selection import train_test_split\n",
    "\n",
    "from sklearn.metrics import accuracy_score, roc_auc_score, f1_score\n",
    "\n",
    "sns.set()"
   ]
  },
  {
   "cell_type": "code",
   "execution_count": 2,
   "metadata": {},
   "outputs": [],
   "source": [
    "data = pd.read_csv(\"./data/cleaned.csv\")"
   ]
  },
  {
   "cell_type": "code",
   "execution_count": 3,
   "metadata": {},
   "outputs": [],
   "source": [
    "data = data.dropna()"
   ]
  },
  {
   "cell_type": "markdown",
   "metadata": {},
   "source": [
    "# Preprocess Data"
   ]
  },
  {
   "cell_type": "code",
   "execution_count": 4,
   "metadata": {},
   "outputs": [],
   "source": [
    "vectorizer = CountVectorizer()"
   ]
  },
  {
   "cell_type": "code",
   "execution_count": 5,
   "metadata": {},
   "outputs": [],
   "source": [
    "X = vectorizer.fit_transform(data.cleaned)\n",
    "y = data.rating > data.rating.median()"
   ]
  },
  {
   "cell_type": "code",
   "execution_count": 6,
   "metadata": {},
   "outputs": [],
   "source": [
    "trainX, valX, trainy, valy = train_test_split(X, y, train_size=0.8, random_state=486)\n",
    "valX, testX, valy, testy = train_test_split(valX, valy, train_size=0.5, random_state=486)"
   ]
  },
  {
   "cell_type": "markdown",
   "metadata": {},
   "source": [
    "# Train SVC"
   ]
  },
  {
   "cell_type": "code",
   "execution_count": 7,
   "metadata": {
    "scrolled": true
   },
   "outputs": [
    {
     "data": {
      "text/plain": [
       "MultinomialNB()"
      ]
     },
     "execution_count": 7,
     "metadata": {},
     "output_type": "execute_result"
    }
   ],
   "source": [
    "clf = MultinomialNB()\n",
    "clf.fit(trainX, trainy)"
   ]
  },
  {
   "cell_type": "markdown",
   "metadata": {},
   "source": [
    "## Evaluate NaiveBayes"
   ]
  },
  {
   "cell_type": "code",
   "execution_count": 8,
   "metadata": {
    "scrolled": false
   },
   "outputs": [
    {
     "data": {
      "text/plain": [
       "0.8148148148148148"
      ]
     },
     "execution_count": 8,
     "metadata": {},
     "output_type": "execute_result"
    }
   ],
   "source": [
    "f1_score(clf.predict(valX), valy)"
   ]
  },
  {
   "cell_type": "code",
   "execution_count": 9,
   "metadata": {},
   "outputs": [
    {
     "data": {
      "text/plain": [
       "0.8229342327150084"
      ]
     },
     "execution_count": 9,
     "metadata": {},
     "output_type": "execute_result"
    }
   ],
   "source": [
    "accuracy_score(clf.predict(valX), valy)"
   ]
  },
  {
   "cell_type": "code",
   "execution_count": 27,
   "metadata": {},
   "outputs": [
    {
     "data": {
      "text/plain": [
       "0.819677850036608"
      ]
     },
     "execution_count": 27,
     "metadata": {},
     "output_type": "execute_result"
    }
   ],
   "source": [
    "roc_auc_score(clf.predict(valX), valy)"
   ]
  },
  {
   "cell_type": "markdown",
   "metadata": {},
   "source": [
    "## Features with highest and lowest coefs\n",
    "\n",
    "It looks like most of the features with extreme coefficients are actually usernames. Let's try to filter those out."
   ]
  },
  {
   "cell_type": "code",
   "execution_count": 10,
   "metadata": {},
   "outputs": [
    {
     "data": {
      "text/plain": [
       "array(['more', 'all', 'strong', 'but', 'color', 'new', 'one', 'our',\n",
       "       'work', 'lit', 'add', 'you', 'points', 'skype', 'book', 'has',\n",
       "       'update', 'rooms', 'wall', 'set', 'with', 'pillow', 'this',\n",
       "       'books', 'lamp', 'nice', 'up', 'flowers', 'light', 'on', 'it',\n",
       "       'lighting', 'are', 'good', 'depth', 'in', 'well', 'to', 'we',\n",
       "       'rater', 'plant', 'for', 'of', 'is', 'great', 'and', 'room',\n",
       "       'love', 'art', 'the'], dtype='<U28')"
      ]
     },
     "execution_count": 10,
     "metadata": {},
     "output_type": "execute_result"
    }
   ],
   "source": [
    "np.array(vectorizer.get_feature_names())[np.argsort(clf.coef_)[0, -50:]]"
   ]
  },
  {
   "cell_type": "code",
   "execution_count": 12,
   "metadata": {},
   "outputs": [
    {
     "data": {
      "text/plain": [
       "array(['senator_sam', 'thepointsguy', 'oz', 'oystercovefarms', 'gotten',\n",
       "       'gouging', 'oy', 'gospel', 'theothermandela', 'govbillweld',\n",
       "       'govchristie', 'govcox', 'theorist', 'govedrendell', 'theories',\n",
       "       'oxycontin', 'governorpataki', 'gorilla', 'gore', 'goon', 'gop',\n",
       "       'therachlindsay', 'gopbetrayedamerica', 'gopchairwoman',\n",
       "       'gopleader', 'ozark', 'gord', 'ozzie4pdxmayor', 'gordjohns',\n",
       "       'ozymandias', 'gordongchang', 'gordonhumphrey', 'ozolslawfirm',\n",
       "       'pa', 'googly', 'governors', 'govevers', 'gracecomchurch',\n",
       "       'gracepotter', 'graciestyle', 'grad', 'owes', 'soniafurstenau',\n",
       "       'grace_segers', 'grades', 'owe', 'owasow', 'graham', 'grahamdodds',\n",
       "       'overwhelming'], dtype='<U28')"
      ]
     },
     "execution_count": 12,
     "metadata": {},
     "output_type": "execute_result"
    }
   ],
   "source": [
    "np.array(vectorizer.get_feature_names())[np.argsort(clf.coef_)[0, :50]]"
   ]
  },
  {
   "cell_type": "code",
   "execution_count": 13,
   "metadata": {},
   "outputs": [],
   "source": [
    "at_re = re.compile(r\"@[\\w_]+\")\n",
    "def strip_ats(tweet):\n",
    "    return at_re.sub(\"\", tweet)\n",
    "\n",
    "hash_re = re.compile(r\"#\\w+\")\n",
    "def strip_hashtags(tweet):\n",
    "    return hash_re.sub(\"\", tweet)"
   ]
  },
  {
   "cell_type": "code",
   "execution_count": 14,
   "metadata": {},
   "outputs": [],
   "source": [
    "X = vectorizer.fit_transform(data.cleaned.apply(strip_ats).apply(strip_hashtags))\n",
    "y = data.rating > data.rating.median()\n",
    "\n",
    "trainX, valX, trainy, valy = train_test_split(X, y, train_size=0.8, random_state=486)\n",
    "valX, testX, valy, testy = train_test_split(valX, valy, train_size=0.5, random_state=486)"
   ]
  },
  {
   "cell_type": "code",
   "execution_count": 28,
   "metadata": {},
   "outputs": [
    {
     "data": {
      "text/plain": [
       "(0.8067675868210151, 0.8170320404721754, 0.819677850036608)"
      ]
     },
     "execution_count": 28,
     "metadata": {},
     "output_type": "execute_result"
    }
   ],
   "source": [
    "clf.fit(trainX, trainy)\n",
    "f1_score(clf.predict(valX), valy), accuracy_score(clf.predict(valX), valy), roc_auc_score(clf.predict(valX), valy)"
   ]
  },
  {
   "cell_type": "code",
   "execution_count": 22,
   "metadata": {},
   "outputs": [
    {
     "data": {
      "text/plain": [
       "array(['video', 'work', 'depth', 'right', 'too', 'one', 'points',\n",
       "       'reframe', 'left', 'that', 'book', 'hostage', 'back', 'needs',\n",
       "       'like', 'great', 'wall', 'lighting', 'not', 'set', 'well', 'lamp',\n",
       "       'this', 'books', 'you', 'raise', 'with', 'but', 'are', 'more',\n",
       "       'in', 'it', 'up', 'light', 'nice', 'room', 'on', 'camera', 'for',\n",
       "       'good', 'plant', 'we', 'of', 'is', 'add', 'love', 'and', 'to',\n",
       "       'art', 'the'], dtype='<U19')"
      ]
     },
     "execution_count": 22,
     "metadata": {},
     "output_type": "execute_result"
    }
   ],
   "source": [
    "np.array(vectorizer.get_feature_names())[np.argsort(clf.coef_)[0, -50:]]"
   ]
  },
  {
   "cell_type": "code",
   "execution_count": 24,
   "metadata": {},
   "outputs": [
    {
     "data": {
      "text/plain": [
       "array(['hapless', 'interest', 'intercoms', 'intentionally', 'intent',\n",
       "       'intense', 'intended', 'intellectuals', 'intellectual',\n",
       "       'throwback', 'insurgents', 'instument', 'throwing', 'instalment',\n",
       "       'inspiration', 'thru', 'thst', 'insert', 'insensitive',\n",
       "       'insufficient', 'insects', 'interplay', 'interpreting', 'involved',\n",
       "       'invites', 'invisible', 'investor', 'investigating', 'invest',\n",
       "       'invention', 'invent', 'interpreters', 'invade', 'thrillers',\n",
       "       'intrepid', 'intimidated', 'interviewing', 'interviewed',\n",
       "       'intervention', 'interstellar', 'interrogation', 'inukshuk', 'ip',\n",
       "       'inscribed', 'inquiry', 'increase', 'incorrectly', 'incorporated',\n",
       "       'incongruously', 'incomplete'], dtype='<U19')"
      ]
     },
     "execution_count": 24,
     "metadata": {},
     "output_type": "execute_result"
    }
   ],
   "source": [
    "np.array(vectorizer.get_feature_names())[np.argsort(clf.coef_)[0, :50]]"
   ]
  },
  {
   "cell_type": "code",
   "execution_count": 38,
   "metadata": {},
   "outputs": [
    {
     "data": {
      "text/plain": [
       "array([ 90., 102., 102., 102., 102., 102., 102., 102., 102., 198., 102.,\n",
       "       102., 198., 101., 101., 198., 198., 101., 101., 102., 101., 102.,\n",
       "       102., 103., 103., 103., 103., 103., 103., 103., 103., 102., 103.,\n",
       "       198., 102., 102., 102., 102., 102., 102., 102., 103., 103., 101.,\n",
       "       101., 100., 100., 100., 100., 100.])"
      ]
     },
     "execution_count": 38,
     "metadata": {},
     "output_type": "execute_result"
    }
   ],
   "source": [
    "np.round(np.argsort(clf.coef_)[0, :50]/ np.argsort(clf.coef_)[0, 49] * 100)"
   ]
  },
  {
   "cell_type": "code",
   "execution_count": 40,
   "metadata": {},
   "outputs": [],
   "source": [
    "df = pd.DataFrame({'value': np.round(np.argsort(clf.coef_)[0, :50]/ np.argsort(clf.coef_)[0, 49] * 100) ,\n",
    "                  'feature': np.array(vectorizer.get_feature_names())[np.argsort(clf.coef_)[0, :50]]})\n",
    "df.to_csv(\"lowwordcloud.csv\", index=False)"
   ]
  },
  {
   "cell_type": "code",
   "execution_count": null,
   "metadata": {},
   "outputs": [],
   "source": []
  }
 ],
 "metadata": {
  "kernelspec": {
   "display_name": "Python 3",
   "language": "python",
   "name": "python3"
  },
  "language_info": {
   "codemirror_mode": {
    "name": "ipython",
    "version": 3
   },
   "file_extension": ".py",
   "mimetype": "text/x-python",
   "name": "python",
   "nbconvert_exporter": "python",
   "pygments_lexer": "ipython3",
   "version": "3.8.3"
  }
 },
 "nbformat": 4,
 "nbformat_minor": 5
}
