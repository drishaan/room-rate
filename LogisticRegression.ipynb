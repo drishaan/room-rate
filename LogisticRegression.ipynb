{
 "cells": [
  {
   "cell_type": "code",
   "execution_count": 32,
   "metadata": {},
   "outputs": [],
   "source": [
    "import re\n",
    "\n",
    "import pandas as pd\n",
    "import numpy as np\n",
    "import matplotlib.pyplot as plt\n",
    "import seaborn as sns\n",
    "\n",
    "from sklearn.svm import LinearSVC\n",
    "from sklearn.linear_model import LogisticRegression\n",
    "from sklearn.feature_extraction.text import CountVectorizer\n",
    "from sklearn.model_selection import train_test_split\n",
    "\n",
    "from sklearn.metrics import accuracy_score, roc_auc_score, f1_score\n",
    "from sklearn import preprocessing\n",
    "\n",
    "sns.set()"
   ]
  },
  {
   "cell_type": "code",
   "execution_count": 33,
   "metadata": {},
   "outputs": [],
   "source": [
    "data = pd.read_csv(\"./data/cleaned.csv\")"
   ]
  },
  {
   "cell_type": "code",
   "execution_count": 34,
   "metadata": {},
   "outputs": [],
   "source": [
    "data = data.dropna()"
   ]
  },
  {
   "cell_type": "markdown",
   "metadata": {},
   "source": [
    "# Preprocess Data"
   ]
  },
  {
   "cell_type": "code",
   "execution_count": 35,
   "metadata": {},
   "outputs": [],
   "source": [
    "vectorizer = CountVectorizer()"
   ]
  },
  {
   "cell_type": "code",
   "execution_count": 36,
   "metadata": {},
   "outputs": [],
   "source": [
    "X = vectorizer.fit_transform(data.cleaned)\n",
    "y = data.rating > data.rating.median()"
   ]
  },
  {
   "cell_type": "code",
   "execution_count": 37,
   "metadata": {},
   "outputs": [],
   "source": [
    "trainX, valX, trainy, valy = train_test_split(X, y, train_size=0.8, random_state=486)\n",
    "valX, testX, valy, testy = train_test_split(valX, valy, train_size=0.5, random_state=486)"
   ]
  },
  {
   "cell_type": "code",
   "execution_count": 38,
   "metadata": {},
   "outputs": [],
   "source": [
    "scaler = preprocessing.StandardScaler(with_mean=False).fit(trainX)\n",
    "scaledTrainX = scaler.transform(trainX)"
   ]
  },
  {
   "cell_type": "markdown",
   "metadata": {},
   "source": [
    "# Train SVC"
   ]
  },
  {
   "cell_type": "code",
   "execution_count": 39,
   "metadata": {
    "scrolled": false
   },
   "outputs": [
    {
     "data": {
      "text/plain": [
       "LogisticRegression(max_iter=1000, random_state=486)"
      ]
     },
     "execution_count": 39,
     "metadata": {},
     "output_type": "execute_result"
    }
   ],
   "source": [
    "clf = LogisticRegression(random_state=486, max_iter=1000)\n",
    "clf.fit(trainX, trainy)"
   ]
  },
  {
   "cell_type": "markdown",
   "metadata": {},
   "source": [
    "## Evaluate model"
   ]
  },
  {
   "cell_type": "code",
   "execution_count": 40,
   "metadata": {
    "scrolled": true
   },
   "outputs": [
    {
     "data": {
      "text/plain": [
       "12228     True\n",
       "5566     False\n",
       "4964     False\n",
       "7351      True\n",
       "3191      True\n",
       "         ...  \n",
       "922      False\n",
       "5307     False\n",
       "6399     False\n",
       "4297     False\n",
       "9488     False\n",
       "Name: rating, Length: 1186, dtype: bool"
      ]
     },
     "execution_count": 40,
     "metadata": {},
     "output_type": "execute_result"
    }
   ],
   "source": [
    "valy"
   ]
  },
  {
   "cell_type": "code",
   "execution_count": 41,
   "metadata": {
    "scrolled": false
   },
   "outputs": [
    {
     "data": {
      "text/plain": [
       "0.814495254529767"
      ]
     },
     "execution_count": 41,
     "metadata": {},
     "output_type": "execute_result"
    }
   ],
   "source": [
    "f1_score(valy, clf.decision_function(valX) > 0)"
   ]
  },
  {
   "cell_type": "code",
   "execution_count": 42,
   "metadata": {
    "scrolled": true
   },
   "outputs": [
    {
     "data": {
      "text/plain": [
       "0.8187183811129848"
      ]
     },
     "execution_count": 42,
     "metadata": {},
     "output_type": "execute_result"
    }
   ],
   "source": [
    "accuracy_score(valy, clf.decision_function(valX) > 0)"
   ]
  },
  {
   "cell_type": "code",
   "execution_count": 43,
   "metadata": {},
   "outputs": [
    {
     "data": {
      "text/plain": [
       "0.9043381566673492"
      ]
     },
     "execution_count": 43,
     "metadata": {},
     "output_type": "execute_result"
    }
   ],
   "source": [
    "roc_auc_score(valy, clf.decision_function(valX))"
   ]
  },
  {
   "cell_type": "markdown",
   "metadata": {},
   "source": [
    "## Features with highest and lowest coefs\n",
    "\n",
    "It looks like most of the features with extreme coefficients are actually usernames. Let's try to filter those out."
   ]
  },
  {
   "cell_type": "code",
   "execution_count": 44,
   "metadata": {},
   "outputs": [
    {
     "data": {
      "text/plain": [
       "array(['power', 'born', 'composition', 'wait', 'beautiful', 'hero',\n",
       "       'clairecmc', 'perfection', 'sharp', 'philiprucker', 'statue',\n",
       "       'curated', 'rbg', 'texas', 'previously', 'schittscreek',\n",
       "       'aaronrodgers12', 'nailed', 'however', 'fresh', 'pooch',\n",
       "       'royalfamily', 'excellent', 'boy', 'beautifully', 'music',\n",
       "       'glorious', 'bobpisani', 'rater', 'perfectly', 'superior',\n",
       "       'pineapple', 'wow', 'closer', 'flawless', 'support', 'timodc',\n",
       "       'happy', 'amazing', 'done', 'nudge', 'ten', 'gorgeous', 'governor',\n",
       "       'joebiden', 'aweissmann_', 'thank', 'historic', 'justintrudeau',\n",
       "       'win'], dtype='<U28')"
      ]
     },
     "execution_count": 44,
     "metadata": {},
     "output_type": "execute_result"
    }
   ],
   "source": [
    "np.array(vectorizer.get_feature_names())[np.argsort(clf.coef_)[0, -50:]]"
   ]
  },
  {
   "cell_type": "code",
   "execution_count": 45,
   "metadata": {},
   "outputs": [
    {
     "data": {
      "text/plain": [
       "array(['needs', 'hostage', 'add', 'issue', 'decent', 'potential', 'basic',\n",
       "       'lot', 'reposition', 'costareports', 'bigger', 'change',\n",
       "       'deduction', 'donnydeutsch', 'rotten', 'copier', 'need', 'poor',\n",
       "       'crying', 'declutter', 'fail', 'side', 'wants', 'trump', 'put',\n",
       "       'narrow', 'christrapper', 'elements', 'interesting', 'staged',\n",
       "       'blank', 'stagey', 'acceptable', 'must', 'next', 'move', 'copies',\n",
       "       'interplay', 'solid', 'pull', 'shame', 'pics', 'missing', 'bad',\n",
       "       'trying', 'vanity', 'raise', 'lost', 'worse', 'evangelical'],\n",
       "      dtype='<U28')"
      ]
     },
     "execution_count": 45,
     "metadata": {},
     "output_type": "execute_result"
    }
   ],
   "source": [
    "np.array(vectorizer.get_feature_names())[np.argsort(clf.coef_)[0, :50]]"
   ]
  },
  {
   "cell_type": "code",
   "execution_count": 46,
   "metadata": {},
   "outputs": [],
   "source": [
    "at_re = re.compile(r\"@[\\w_]+\")\n",
    "def strip_ats(tweet):\n",
    "    return at_re.sub(\"\", tweet)\n",
    "\n",
    "hash_re = re.compile(r\"#\\w+\")\n",
    "def strip_hashtags(tweet):\n",
    "    return hash_re.sub(\"\", tweet)"
   ]
  },
  {
   "cell_type": "code",
   "execution_count": 47,
   "metadata": {},
   "outputs": [],
   "source": [
    "X = vectorizer.fit_transform(data.cleaned.apply(strip_ats).apply(strip_hashtags))\n",
    "y = data.rating > data.rating.median()\n",
    "\n",
    "trainX, valX, trainy, valy = train_test_split(X, y, train_size=0.8, random_state=486)\n",
    "valX, testX, valy, testy = train_test_split(valX, valy, train_size=0.5, random_state=486)"
   ]
  },
  {
   "cell_type": "code",
   "execution_count": 48,
   "metadata": {},
   "outputs": [
    {
     "data": {
      "text/plain": [
       "(0.8141135972461273, 0.8178752107925801, 0.900002559552249)"
      ]
     },
     "execution_count": 48,
     "metadata": {},
     "output_type": "execute_result"
    }
   ],
   "source": [
    "clf.fit(trainX, trainy)\n",
    "f1_score(valy, clf.decision_function(valX) > 0), accuracy_score(valy, clf.decision_function(valX) > 0), roc_auc_score(valy, clf.decision_function(valX))"
   ]
  },
  {
   "cell_type": "code",
   "execution_count": 49,
   "metadata": {},
   "outputs": [
    {
     "data": {
      "text/plain": [
       "array(['congratulations', 'hydrangeas', 'favorite', 'coming', 'sweater',\n",
       "       'hero', 'curated', 'grace', 'slight', 'elegance', 'texas',\n",
       "       'justice', 'textures', 'pooch', 'pineapples', 'sharp', 'rater',\n",
       "       'fauci', 'lighted', 'perfection', 'statue', 'staircases', 'music',\n",
       "       'pineapple', 'boy', 'excellent', 'rbg', 'previously', 'wait',\n",
       "       'closer', 'perfectly', 'however', 'glorious', 'beautifully',\n",
       "       'support', 'nudge', 'wow', 'done', 'innis', 'superior', 'ten',\n",
       "       'happy', 'flawless', 'amazing', 'fresh', 'governor', 'gorgeous',\n",
       "       'historic', 'thank', 'win'], dtype='<U19')"
      ]
     },
     "execution_count": 49,
     "metadata": {},
     "output_type": "execute_result"
    }
   ],
   "source": [
    "np.array(vectorizer.get_feature_names())[np.argsort(clf.coef_)[0, -50:]]"
   ]
  },
  {
   "cell_type": "code",
   "execution_count": 50,
   "metadata": {},
   "outputs": [
    {
     "data": {
      "text/plain": [
       "array(['needs', 'hostage', 'rotten', 'add', 'decent', 'potential',\n",
       "       'issue', 'lot', 'basic', 'reposition', 'wants', 'fail', 'poor',\n",
       "       'change', 'crying', 'interplay', 'copier', 'bigger', 'declutter',\n",
       "       'need', 'narrow', 'deduction', 'trump', 'blank', 'staged',\n",
       "       'evangelical', 'sock', 'worse', 'side', 'put', 'acceptable',\n",
       "       'stagey', 'next', 'must', 'vanity', 'interesting', 'copies',\n",
       "       'elements', 'vaccinated', 'missing', 'sorry', 'trying', 'shame',\n",
       "       'revisit', 'pics', 'repositon', 'clearly', 'lose', 'move',\n",
       "       'consider'], dtype='<U19')"
      ]
     },
     "execution_count": 50,
     "metadata": {},
     "output_type": "execute_result"
    }
   ],
   "source": [
    "np.array(vectorizer.get_feature_names())[np.argsort(clf.coef_)[0, :50]]"
   ]
  },
  {
   "cell_type": "code",
   "execution_count": null,
   "metadata": {},
   "outputs": [],
   "source": []
  },
  {
   "cell_type": "code",
   "execution_count": null,
   "metadata": {},
   "outputs": [],
   "source": []
  },
  {
   "cell_type": "code",
   "execution_count": null,
   "metadata": {},
   "outputs": [],
   "source": []
  }
 ],
 "metadata": {
  "kernelspec": {
   "display_name": "Python 3",
   "language": "python",
   "name": "python3"
  },
  "language_info": {
   "codemirror_mode": {
    "name": "ipython",
    "version": 3
   },
   "file_extension": ".py",
   "mimetype": "text/x-python",
   "name": "python",
   "nbconvert_exporter": "python",
   "pygments_lexer": "ipython3",
   "version": "3.8.3"
  }
 },
 "nbformat": 4,
 "nbformat_minor": 5
}
