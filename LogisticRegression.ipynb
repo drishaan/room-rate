{
 "cells": [
  {
   "cell_type": "code",
   "execution_count": 75,
   "metadata": {},
   "outputs": [],
   "source": [
    "import re\n",
    "\n",
    "import pandas as pd\n",
    "import numpy as np\n",
    "import matplotlib.pyplot as plt\n",
    "import seaborn as sns\n",
    "\n",
    "from sklearn.svm import LinearSVC\n",
    "from sklearn.linear_model import LogisticRegression\n",
    "from sklearn.feature_extraction.text import CountVectorizer\n",
    "from sklearn.model_selection import train_test_split\n",
    "\n",
    "from sklearn.metrics import accuracy_score, roc_auc_score, f1_score\n",
    "from sklearn import preprocessing\n",
    "\n",
    "sns.set()"
   ]
  },
  {
   "cell_type": "code",
   "execution_count": 76,
   "metadata": {},
   "outputs": [],
   "source": [
    "data = pd.read_csv(\"./data/cleaned.csv\")"
   ]
  },
  {
   "cell_type": "code",
   "execution_count": 77,
   "metadata": {},
   "outputs": [],
   "source": [
    "data = data.dropna()"
   ]
  },
  {
   "cell_type": "markdown",
   "metadata": {},
   "source": [
    "# Preprocess Data"
   ]
  },
  {
   "cell_type": "code",
   "execution_count": 78,
   "metadata": {},
   "outputs": [],
   "source": [
    "vectorizer = CountVectorizer()"
   ]
  },
  {
   "cell_type": "code",
   "execution_count": 106,
   "metadata": {},
   "outputs": [],
   "source": [
    "X = vectorizer.fit_transform(data.cleaned)\n",
    "y = data.rating > data.rating.median()"
   ]
  },
  {
   "cell_type": "code",
   "execution_count": 107,
   "metadata": {},
   "outputs": [],
   "source": [
    "trainX, valX, trainy, valy = train_test_split(X, y, train_size=0.8, random_state=486)\n",
    "valX, testX, valy, testy = train_test_split(valX, valy, train_size=0.5, random_state=486)"
   ]
  },
  {
   "cell_type": "code",
   "execution_count": 108,
   "metadata": {},
   "outputs": [],
   "source": [
    "scaler = preprocessing.StandardScaler(with_mean=False).fit(trainX)\n",
    "scaledTrainX = scaler.transform(trainX)"
   ]
  },
  {
   "cell_type": "markdown",
   "metadata": {},
   "source": [
    "# Train model"
   ]
  },
  {
   "cell_type": "code",
   "execution_count": 109,
   "metadata": {
    "scrolled": false
   },
   "outputs": [
    {
     "data": {
      "text/plain": [
       "LogisticRegression(max_iter=1000, random_state=486)"
      ]
     },
     "execution_count": 109,
     "metadata": {},
     "output_type": "execute_result"
    }
   ],
   "source": [
    "clf = LogisticRegression(random_state=486, max_iter=1000)\n",
    "clf.fit(trainX, trainy)"
   ]
  },
  {
   "cell_type": "markdown",
   "metadata": {},
   "source": [
    "## Evaluate model"
   ]
  },
  {
   "cell_type": "code",
   "execution_count": 110,
   "metadata": {
    "scrolled": false
   },
   "outputs": [
    {
     "data": {
      "text/plain": [
       "0.7985611510791368"
      ]
     },
     "execution_count": 110,
     "metadata": {},
     "output_type": "execute_result"
    }
   ],
   "source": [
    "f1_score(valy, clf.predict(valX))"
   ]
  },
  {
   "cell_type": "code",
   "execution_count": 111,
   "metadata": {
    "scrolled": true
   },
   "outputs": [
    {
     "data": {
      "text/plain": [
       "0.810970464135021"
      ]
     },
     "execution_count": 111,
     "metadata": {},
     "output_type": "execute_result"
    }
   ],
   "source": [
    "accuracy_score(valy, clf.predict(valX))"
   ]
  },
  {
   "cell_type": "code",
   "execution_count": 112,
   "metadata": {},
   "outputs": [
    {
     "data": {
      "text/plain": [
       "0.9033992597600522"
      ]
     },
     "execution_count": 112,
     "metadata": {},
     "output_type": "execute_result"
    }
   ],
   "source": [
    "roc_auc_score(valy, clf.decision_function(valX))"
   ]
  },
  {
   "cell_type": "markdown",
   "metadata": {},
   "source": [
    "## Features with highest and lowest coefs\n",
    "\n",
    "It looks like most of the features with extreme coefficients are actually usernames. Let's try to filter those out."
   ]
  },
  {
   "cell_type": "code",
   "execution_count": 91,
   "metadata": {},
   "outputs": [
    {
     "data": {
      "text/plain": [
       "array(['sahilkapur', 'congratulations', 'kitty', 'glorious', 'improved',\n",
       "       'previously', 'nudge', 'great', 'jamescarville', 'never',\n",
       "       'morningshowca', 'textures', 'david', 'coming', 'trustfauci',\n",
       "       'philiprucker', 'composition', 'memoriam', 'amazing', 'stained',\n",
       "       'aaronrodgers12', 'royalfamily', 'rbg', 'cake', 'timodc', 'hero',\n",
       "       'beschlossdc', 'happy', 'done', 'pooch', 'nailed', 'excellent',\n",
       "       'flawless', 'bobpisani', 'however', 'governor', 'perfection',\n",
       "       'rater', 'gorgeous', 'ten', 'perfect', 'music', 'pineapple',\n",
       "       'joebiden', 'aweissmann_', 'thank', 'historic', 'support', 'win',\n",
       "       'justintrudeau'], dtype='<U28')"
      ]
     },
     "execution_count": 91,
     "metadata": {},
     "output_type": "execute_result"
    }
   ],
   "source": [
    "np.array(vectorizer.get_feature_names())[np.argsort(clf.coef_)[0, -50:]]"
   ]
  },
  {
   "cell_type": "code",
   "execution_count": 92,
   "metadata": {},
   "outputs": [
    {
     "data": {
      "text/plain": [
       "array(['hostage', 'needs', 'donnydeutsch', 'add', 'issue', 'reposition',\n",
       "       'lot', 'deduction', 'stagey', 'potential', 'rotten', 'decent',\n",
       "       'basic', 'staged', 'costareports', 'declutter', 'sorry', 'empty',\n",
       "       'bigger', 'poor', 'narrow', 'bad', 'raise', 'blank', 'missing',\n",
       "       'move', 'fail', 'trump', 'elements', 'interplay', 'interesting',\n",
       "       'check', 'need', 'poorly', 'doesn', 'rooster', 'wants', 'deal',\n",
       "       'ear', 'blinds', 'show', 'used', 'pics', 'progress', 'pull', 'too',\n",
       "       'worse', 'ctvqp', 'microwave', 'consider'], dtype='<U28')"
      ]
     },
     "execution_count": 92,
     "metadata": {},
     "output_type": "execute_result"
    }
   ],
   "source": [
    "np.array(vectorizer.get_feature_names())[np.argsort(clf.coef_)[0, :50]]"
   ]
  },
  {
   "cell_type": "code",
   "execution_count": 93,
   "metadata": {},
   "outputs": [],
   "source": [
    "at_re = re.compile(r\"@[\\w_]+\")\n",
    "def strip_ats(tweet):\n",
    "    return at_re.sub(\"\", tweet)\n",
    "\n",
    "hash_re = re.compile(r\"#\\w+\")\n",
    "def strip_hashtags(tweet):\n",
    "    return hash_re.sub(\"\", tweet)"
   ]
  },
  {
   "cell_type": "code",
   "execution_count": 94,
   "metadata": {},
   "outputs": [],
   "source": [
    "X = vectorizer.fit_transform(data.cleaned.apply(strip_ats).apply(strip_hashtags))\n",
    "y = data.rating > data.rating.median()\n",
    "\n",
    "trainX, valX, trainy, valy = train_test_split(X, y, train_size=0.8, random_state=486)\n",
    "valX, testX, valy, testy = train_test_split(valX, valy, train_size=0.5, random_state=486)"
   ]
  },
  {
   "cell_type": "code",
   "execution_count": 96,
   "metadata": {},
   "outputs": [
    {
     "data": {
      "text/plain": [
       "(0.7888589398023361, 0.8016877637130801, 0.89466190743563)"
      ]
     },
     "execution_count": 96,
     "metadata": {},
     "output_type": "execute_result"
    }
   ],
   "source": [
    "clf.fit(trainX, trainy)\n",
    "f1_score(valy, clf.predict(valX)), accuracy_score(valy, clf.predict(valX)), roc_auc_score(valy, clf.decision_function(valX))"
   ]
  },
  {
   "cell_type": "code",
   "execution_count": 97,
   "metadata": {},
   "outputs": [
    {
     "data": {
      "text/plain": [
       "array(['sweater', 'nicest', 'revisiting', 'brilliant', 'closer', 'nudge',\n",
       "       'texas', 'never', 'kitty', 'fluffy', 'composition', 'wow',\n",
       "       'memoriam', 'legend', 'glorious', 'david', 'born', 'message',\n",
       "       'pooch', 'nailed', 'grace', 'congratulations', 'stained', 'done',\n",
       "       'rater', 'hero', 'coming', 'previously', 'perfect', 'textures',\n",
       "       'amazing', 'happy', 'rbg', 'ten', 'excellent', 'governor', 'fresh',\n",
       "       'pineapple', 'remains', 'innis', 'flawless', 'perfection',\n",
       "       'gorgeous', 'however', 'music', 'cake', 'thank', 'historic',\n",
       "       'support', 'win'], dtype='<U19')"
      ]
     },
     "execution_count": 97,
     "metadata": {},
     "output_type": "execute_result"
    }
   ],
   "source": [
    "np.array(vectorizer.get_feature_names())[np.argsort(clf.coef_)[0, -50:]]"
   ]
  },
  {
   "cell_type": "code",
   "execution_count": 98,
   "metadata": {},
   "outputs": [
    {
     "data": {
      "text/plain": [
       "array(['hostage', 'needs', 'rotten', 'add', 'issue', 'lot', 'reposition',\n",
       "       'stagey', 'deduction', 'staged', 'sorry', 'potential', 'decent',\n",
       "       'interplay', 'basic', 'narrow', 'poor', 'declutter', 'fail',\n",
       "       'empty', 'blank', 'sock', 'rooster', 'bigger', 'wants', 'used',\n",
       "       'trump', 'deal', 'missing', 'worse', 'need', 'poorly', 'fight',\n",
       "       'doesn', 'blinds', 'raise', 'laundry', 'interesting', 'microwave',\n",
       "       'recreation', 'move', 'bad', 'pics', 'dumb', 'consider',\n",
       "       'repositon', 'barely', 'counter', 'dark', 'ear'], dtype='<U19')"
      ]
     },
     "execution_count": 98,
     "metadata": {},
     "output_type": "execute_result"
    }
   ],
   "source": [
    "np.array(vectorizer.get_feature_names())[np.argsort(clf.coef_)[0, :50]]"
   ]
  },
  {
   "cell_type": "code",
   "execution_count": null,
   "metadata": {},
   "outputs": [],
   "source": []
  },
  {
   "cell_type": "code",
   "execution_count": null,
   "metadata": {},
   "outputs": [],
   "source": []
  },
  {
   "cell_type": "code",
   "execution_count": null,
   "metadata": {},
   "outputs": [],
   "source": []
  }
 ],
 "metadata": {
  "kernelspec": {
   "display_name": "Python 3",
   "language": "python",
   "name": "python3"
  },
  "language_info": {
   "codemirror_mode": {
    "name": "ipython",
    "version": 3
   },
   "file_extension": ".py",
   "mimetype": "text/x-python",
   "name": "python",
   "nbconvert_exporter": "python",
   "pygments_lexer": "ipython3",
   "version": "3.8.3"
  }
 },
 "nbformat": 4,
 "nbformat_minor": 5
}
