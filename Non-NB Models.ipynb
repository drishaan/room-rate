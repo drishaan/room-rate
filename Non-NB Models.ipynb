{
 "cells": [
  {
   "cell_type": "code",
   "execution_count": 92,
   "id": "answering-manufacturer",
   "metadata": {},
   "outputs": [],
   "source": [
    "import re\n",
    "\n",
    "import pandas as pd\n",
    "import numpy as np\n",
    "import matplotlib.pyplot as plt\n",
    "import seaborn as sns\n",
    "\n",
    "from sklearn.svm import LinearSVC\n",
    "from sklearn.linear_model import LogisticRegression\n",
    "from sklearn.feature_extraction.text import CountVectorizer\n",
    "from sklearn.model_selection import train_test_split\n",
    "\n",
    "from sklearn.metrics import accuracy_score, roc_auc_score, f1_score\n",
    "\n",
    "sns.set()"
   ]
  },
  {
   "cell_type": "code",
   "execution_count": 4,
   "id": "stone-automation",
   "metadata": {},
   "outputs": [],
   "source": [
    "data = pd.read_csv(\"./data/cleaned.csv\")"
   ]
  },
  {
   "cell_type": "code",
   "execution_count": 7,
   "id": "balanced-capability",
   "metadata": {},
   "outputs": [],
   "source": [
    "data = data.dropna()"
   ]
  },
  {
   "cell_type": "markdown",
   "id": "facial-christmas",
   "metadata": {},
   "source": [
    "# Preprocess Data"
   ]
  },
  {
   "cell_type": "code",
   "execution_count": 42,
   "id": "judicial-childhood",
   "metadata": {},
   "outputs": [],
   "source": [
    "vectorizer = CountVectorizer()"
   ]
  },
  {
   "cell_type": "code",
   "execution_count": 43,
   "id": "polar-efficiency",
   "metadata": {},
   "outputs": [],
   "source": [
    "X = vectorizer.fit_transform(data.cleaned)\n",
    "y = data.rating > data.rating.median()"
   ]
  },
  {
   "cell_type": "code",
   "execution_count": 44,
   "id": "statewide-drawing",
   "metadata": {},
   "outputs": [],
   "source": [
    "trainX, valX, trainy, valy = train_test_split(X, y, train_size=0.8, random_state=486)\n",
    "valX, testX, valy, testy = train_test_split(valX, valy, train_size=0.5, random_state=486)"
   ]
  },
  {
   "cell_type": "markdown",
   "id": "royal-president",
   "metadata": {},
   "source": [
    "# Train SVC"
   ]
  },
  {
   "cell_type": "code",
   "execution_count": 45,
   "id": "wireless-graduation",
   "metadata": {
    "scrolled": true
   },
   "outputs": [
    {
     "data": {
      "text/plain": [
       "LinearSVC()"
      ]
     },
     "execution_count": 45,
     "metadata": {},
     "output_type": "execute_result"
    }
   ],
   "source": [
    "svc = LinearSVC()\n",
    "svc.fit(trainX, trainy)"
   ]
  },
  {
   "cell_type": "markdown",
   "id": "fitting-liabilities",
   "metadata": {},
   "source": [
    "## Evaluate SVC"
   ]
  },
  {
   "cell_type": "code",
   "execution_count": 57,
   "id": "hundred-pledge",
   "metadata": {
    "scrolled": false
   },
   "outputs": [
    {
     "data": {
      "text/plain": [
       "0.7948497854077253"
      ]
     },
     "execution_count": 57,
     "metadata": {},
     "output_type": "execute_result"
    }
   ],
   "source": [
    "f1_score(svc.predict(valX), valy)"
   ]
  },
  {
   "cell_type": "code",
   "execution_count": 58,
   "id": "contemporary-turning",
   "metadata": {},
   "outputs": [
    {
     "data": {
      "text/plain": [
       "0.7984822934232715"
      ]
     },
     "execution_count": 58,
     "metadata": {},
     "output_type": "execute_result"
    }
   ],
   "source": [
    "accuracy_score(svc.predict(valX), valy)"
   ]
  },
  {
   "cell_type": "markdown",
   "id": "confidential-glossary",
   "metadata": {},
   "source": [
    "## Features with highest and lowest coefs\n",
    "\n",
    "It looks like most of the features with extreme coefficients are actually usernames. Let's try to filter those out."
   ]
  },
  {
   "cell_type": "code",
   "execution_count": 82,
   "id": "expensive-october",
   "metadata": {},
   "outputs": [
    {
     "data": {
      "text/plain": [
       "array(['hunterhayes', 'hamillhimself', 'jmpalmieri', 'schittscreek',\n",
       "       'alxthomp', 'maragay', 'doriskgoodwin', 'agbecerra', 'juliahamm',\n",
       "       'carole_king', 'lenses', 'marktakesphoto', 'advocate', 'telescope',\n",
       "       'keishabottoms', 'lawyerbobbauer', 'bfinamore', 'jacqehoward',\n",
       "       'remaining', 'adamwren', 'staircases', 'derricknaacp',\n",
       "       'lynnoberlander', 'beautifully', 'merrillbro', 'rahmemanuel',\n",
       "       'previously', 'ron_christie', 'lets', 'radhikajones', 'astro_cady',\n",
       "       'objets', 'gdebenedetti', 'sweater', 'erickmsanchez', 'texas',\n",
       "       'johndonvan', 'glorious', 'celinedion', 'bbheathertom',\n",
       "       'katedicamillo', 'ericswalwell', 'stained', 'identified',\n",
       "       'torontostar', 'superior', 'mrhollywoodmd', 'governor',\n",
       "       'ricktelesz', 'meganpormer'], dtype='<U28')"
      ]
     },
     "execution_count": 82,
     "metadata": {},
     "output_type": "execute_result"
    }
   ],
   "source": [
    "np.array(vectorizer.get_feature_names())[np.argsort(svc.coef_)[0, -50:]]"
   ]
  },
  {
   "cell_type": "code",
   "execution_count": 83,
   "id": "altered-duplicate",
   "metadata": {},
   "outputs": [
    {
     "data": {
      "text/plain": [
       "array(['christrapper', 'loganplaster', 'sarahnferris', 'gregstohr',\n",
       "       'chrishell7', 'andreayoungatl', 'nkechi_taifa', 'costareports',\n",
       "       'markherringva', 'ctvqp', 'blacksnob', 'kate_manne', 'senatorgill',\n",
       "       'crying', 'drmcclellan', 'henadoba', 'laurenzelt', 'repjoshg',\n",
       "       'mpinoe', 'rinsana', 'jamesfortexas', 'niknanos', 'lot',\n",
       "       'vladduthierscbs', 'mooch', 'rehang', 'docking', 'interplay',\n",
       "       'rozweston', 'susanlejeuneuk', 'mryangorman', 'ambermcreynolds',\n",
       "       'domingomorel', 'jordanwitzel', 'deanobeidallah', 'potential',\n",
       "       'hankazaria', 'declutter', 'juliaioffe', 'chrisdaleoxford',\n",
       "       'edyong209', 'secret', 'zekejmiller', 'bernadeansteptoe',\n",
       "       'haleyjoelleott', 'milnerhrich', 'rachaelcobb', 'blairunderwood',\n",
       "       'brought', 'spread'], dtype='<U28')"
      ]
     },
     "execution_count": 83,
     "metadata": {},
     "output_type": "execute_result"
    }
   ],
   "source": [
    "np.array(vectorizer.get_feature_names())[np.argsort(svc.coef_)[0, :50]]"
   ]
  },
  {
   "cell_type": "code",
   "execution_count": 121,
   "id": "bright-density",
   "metadata": {},
   "outputs": [],
   "source": [
    "at_re = re.compile(r\"@[\\w_]+\")\n",
    "def strip_ats(tweet):\n",
    "    return at_re.sub(\"\", tweet)\n",
    "\n",
    "hash_re = re.compile(r\"#\\w+\")\n",
    "def strip_hashtags(tweet):\n",
    "    return hash_re.sub(\"\", tweet)"
   ]
  },
  {
   "cell_type": "code",
   "execution_count": 123,
   "id": "atlantic-pollution",
   "metadata": {},
   "outputs": [
    {
     "ename": "SyntaxError",
     "evalue": "invalid syntax (<ipython-input-123-773f2e913f9b>, line 2)",
     "output_type": "error",
     "traceback": [
      "\u001b[0;36m  File \u001b[0;32m\"<ipython-input-123-773f2e913f9b>\"\u001b[0;36m, line \u001b[0;32m2\u001b[0m\n\u001b[0;31m    y = data.rating > data.rating.median()\u001b[0m\n\u001b[0m    ^\u001b[0m\n\u001b[0;31mSyntaxError\u001b[0m\u001b[0;31m:\u001b[0m invalid syntax\n"
     ]
    }
   ],
   "source": [
    "X = vectorizer.fit_transform(data.cleaned.apply(strip_ats).apply(strip_hashtags))\n",
    "y = data.rating > data.rating.median()\n",
    "\n",
    "trainX, valX, trainy, valy = train_test_split(X, y, train_size=0.8, random_state=486)\n",
    "valX, testX, valy, testy = train_test_split(valX, valy, train_size=0.5, random_state=486)"
   ]
  },
  {
   "cell_type": "code",
   "execution_count": 115,
   "id": "labeled-tongue",
   "metadata": {},
   "outputs": [
    {
     "data": {
      "text/plain": [
       "(0.7846153846153847, 0.7875210792580101)"
      ]
     },
     "execution_count": 115,
     "metadata": {},
     "output_type": "execute_result"
    }
   ],
   "source": [
    "svc.fit(trainX, trainy)\n",
    "f1_score(svc.predict(valX), valy), accuracy_score(svc.predict(valX), valy)"
   ]
  },
  {
   "cell_type": "code",
   "execution_count": 116,
   "id": "hungry-region",
   "metadata": {},
   "outputs": [
    {
     "data": {
      "text/plain": [
       "array(['bacon', 'models', 'livable', 'brava', 'acceptible',\n",
       "       'bipartisanship', 'telescope', 'murals', 'fiction', 'wishes',\n",
       "       'scented', 'sailing', 'lover', 'filled', 'schmancy', 'ringer',\n",
       "       'stained', 'chia', 'wow', 'sweater', 'advocate', 'clients',\n",
       "       'forecast', 'china', 'labor', 'inappropriate', 'texas', 'bamboo',\n",
       "       'daggers', 'innis', 'brooklyn', 'tapestry', 'staircases', 'felled',\n",
       "       'ricktelesz', 'nicest', 'governor', 'beautifully', 'glorious',\n",
       "       'flawless', 'previously', 'remaining', 'arched', 'chriswallace',\n",
       "       'hitting', 'lenses', 'lets', 'superior', 'identified', 'objets'],\n",
       "      dtype='<U28')"
      ]
     },
     "execution_count": 116,
     "metadata": {},
     "output_type": "execute_result"
    }
   ],
   "source": [
    "np.array(vectorizer.get_feature_names())[np.argsort(svc.coef_)[0, -50:]]"
   ]
  },
  {
   "cell_type": "code",
   "execution_count": 117,
   "id": "together-anger",
   "metadata": {},
   "outputs": [
    {
     "data": {
      "text/plain": [
       "array(['sock', 'sort', 'interplay', 'crying', 'repositon', 'shame',\n",
       "       'clothes', 'wants', 'paneled', 'lot', 'readjust', 'drmcclellan',\n",
       "       'pussywillows', 'mooch', 'alcohol', 'kerry', 'vaccinated',\n",
       "       'styling', 'stage', 'nora', 'ching', 'invisible', 'lowet', 'lose',\n",
       "       'folliage', 'aces', '19th', 'aspen', 'docking', 'scientific',\n",
       "       'reduce', 'fail', 'recompose', 'source', 'mybe', 'scoreboards',\n",
       "       'proliferating', 'dome', 'closed', 'potential', 'tissues', 'thru',\n",
       "       'candlesticks', 'narrow', 'indirect', 'format', 'sparse', 'flows',\n",
       "       'uninspired', 'accompaniment'], dtype='<U28')"
      ]
     },
     "execution_count": 117,
     "metadata": {},
     "output_type": "execute_result"
    }
   ],
   "source": [
    "np.array(vectorizer.get_feature_names())[np.argsort(svc.coef_)[0, :50]]"
   ]
  },
  {
   "cell_type": "code",
   "execution_count": null,
   "id": "leading-kingdom",
   "metadata": {},
   "outputs": [],
   "source": []
  }
 ],
 "metadata": {
  "kernelspec": {
   "display_name": "Python 3",
   "language": "python",
   "name": "python3"
  },
  "language_info": {
   "codemirror_mode": {
    "name": "ipython",
    "version": 3
   },
   "file_extension": ".py",
   "mimetype": "text/x-python",
   "name": "python",
   "nbconvert_exporter": "python",
   "pygments_lexer": "ipython3",
   "version": "3.9.0"
  }
 },
 "nbformat": 4,
 "nbformat_minor": 5
}
