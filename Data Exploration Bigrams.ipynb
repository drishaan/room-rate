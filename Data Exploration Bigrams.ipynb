{
 "cells": [
  {
   "cell_type": "code",
   "execution_count": 147,
   "metadata": {},
   "outputs": [],
   "source": [
    "import pandas as pd\n",
    "import string\n",
    "from collections import Counter"
   ]
  },
  {
   "cell_type": "code",
   "execution_count": 148,
   "metadata": {},
   "outputs": [],
   "source": [
    "df = pd.read_csv(\"./data/cleaned.csv\")"
   ]
  },
  {
   "cell_type": "code",
   "execution_count": 149,
   "metadata": {
    "scrolled": false
   },
   "outputs": [
    {
     "data": {
      "text/plain": [
       "<bound method NDFrame.head of        rating                                            cleaned  \\\n",
       "0           9  new view love art presentation perspective lig...   \n",
       "1           9  st paddy’s day edition great wall color maps a...   \n",
       "2          10  doors dublin dingus-the stuff dreams made nice...   \n",
       "3           9  good tight set up love blue art flag widen sho...   \n",
       "4           0  dark never escape stank wrong about everything...   \n",
       "...       ...                                                ...   \n",
       "12614       8      blue works not just books plus good use space   \n",
       "12615       2             “i’ll just put sweatpants” skype rooms   \n",
       "12616       3           books too dark little way personal style   \n",
       "12617       4  books always must little too obvious such well...   \n",
       "12618       2                              she’s not even trying   \n",
       "\n",
       "                                                  bigram  \\\n",
       "0      newview viewlove loveart artpresentation prese...   \n",
       "1      stpaddy paddy’ ’s sday dayedition editiongreat...   \n",
       "2      doorsdublin dublindingus-the dingus-thestuff s...   \n",
       "3      goodtight tightset setup uplove loveblue bluea...   \n",
       "4      darknever neverescape escapestank stankwrong w...   \n",
       "...                                                  ...   \n",
       "12614  blueworks worksnot notjust justbooks booksplus...   \n",
       "12615  “i i’ ’ll lljust justput putsweatpants sweatpa...   \n",
       "12616  bookstoo toodark darklittle littleway wayperso...   \n",
       "12617  booksalways alwaysmust mustlittle littletoo to...   \n",
       "12618                    she’ ’s snot noteven eventrying   \n",
       "\n",
       "                                                   tweet  \\\n",
       "0      New view. Love the art. Presentation. Perspect...   \n",
       "1      Room Rater St Paddy’s Day Edition. Great wall ...   \n",
       "2      Doors of Dublin. The Dingus-the stuff that dre...   \n",
       "3      Good tight set up. Love the blue. Art. Flag. W...   \n",
       "4      Dark. Will never escape the stank. Wrong about...   \n",
       "...                                                  ...   \n",
       "12614  The blue works. Not just books a plus. Good us...   \n",
       "12615  This is the “I’ll just put on sweatpants” of S...   \n",
       "12616  All books. Too dark. Little in way of personal...   \n",
       "12617  Books always a must but a little too obvious f...   \n",
       "12618  She’s not even trying. 2/10.  https://t.co/MrA...   \n",
       "\n",
       "                    created_at  replies_count  retweets_count  likes_count  \\\n",
       "0      2021-03-17 16:24:35 EDT              3               2           62   \n",
       "1      2021-03-17 15:25:51 EDT              2               2           57   \n",
       "2      2021-03-17 15:19:53 EDT              7               4          123   \n",
       "3      2021-03-17 13:46:47 EDT              1               1           60   \n",
       "4      2021-03-17 13:11:17 EDT             35              38          846   \n",
       "...                        ...            ...             ...          ...   \n",
       "12614  2020-04-11 16:08:35 EDT              5               3           66   \n",
       "12615  2020-04-11 15:48:31 EDT              2               5           97   \n",
       "12616  2020-04-11 14:32:57 EDT              4               6           54   \n",
       "12617  2020-04-11 14:05:56 EDT              8               2           63   \n",
       "12618  2020-04-11 12:41:22 EDT             25              15          221   \n",
       "\n",
       "                                               img_url  \n",
       "0      https://pbs.twimg.com/media/EwtT4E7UUAAgt5w.jpg  \n",
       "1      https://pbs.twimg.com/media/EwtGbzTUYAAxDiu.jpg  \n",
       "2      https://pbs.twimg.com/media/EwtFESHVEAEYlzv.jpg  \n",
       "3      https://pbs.twimg.com/media/EwsvwlOU8AQ5lOY.jpg  \n",
       "4      https://pbs.twimg.com/media/Ewsnoq5U8AMxxAg.jpg  \n",
       "...                                                ...  \n",
       "12614  https://pbs.twimg.com/media/EVWTqhXUwAARtMP.jpg  \n",
       "12615  https://pbs.twimg.com/media/EVWPEM6VAAEiqG7.jpg  \n",
       "12616  https://pbs.twimg.com/media/EVV9xLUU0AEQ8oa.jpg  \n",
       "12617  https://pbs.twimg.com/media/EVV3l5fUYAEim1s.jpg  \n",
       "12618  https://pbs.twimg.com/media/EVVkPRoUMAcPOdq.jpg  \n",
       "\n",
       "[12619 rows x 9 columns]>"
      ]
     },
     "execution_count": 149,
     "metadata": {},
     "output_type": "execute_result"
    }
   ],
   "source": [
    "# Check out the data\n",
    "df.head"
   ]
  },
  {
   "cell_type": "code",
   "execution_count": 150,
   "metadata": {},
   "outputs": [
    {
     "data": {
      "text/plain": [
       "(3616, 9)"
      ]
     },
     "execution_count": 150,
     "metadata": {},
     "output_type": "execute_result"
    }
   ],
   "source": [
    "df['cleaned'] = df['cleaned'].astype(str)\n",
    "rate_10 = df[df['rating'] == 10]\n",
    "rate_10.shape"
   ]
  },
  {
   "cell_type": "code",
   "execution_count": 151,
   "metadata": {
    "scrolled": true
   },
   "outputs": [
    {
     "data": {
      "text/plain": [
       "2        doorsdublin dublindingus-the dingus-thestuff s...\n",
       "5        stpaddy paddy’ ’s sday dayupdate update@ @phil...\n",
       "7        bookclub clublove loveart artlighting lighting...\n",
       "10       adoreart artwell wellcomposed composedstrong s...\n",
       "11       psacanada canada@ @brittlestar brittlestarreas...\n",
       "                               ...                        \n",
       "12484    perfect@ @beschlossdc beschlossdcfabulous fabu...\n",
       "12503    eleganttasteful tastefulone oneyou you’ ’d dex...\n",
       "12514    simpleunassuming unassumingoh ohfuk fukhe he’ ...\n",
       "12551    ok@ @steveschmidtses steveschmidtsesknows know...\n",
       "12581    onebest bestskype skyperooms roomsever evermad...\n",
       "Name: bigram, Length: 3616, dtype: object"
      ]
     },
     "execution_count": 151,
     "metadata": {},
     "output_type": "execute_result"
    }
   ],
   "source": [
    "rate_10['bigram']"
   ]
  },
  {
   "cell_type": "code",
   "execution_count": 152,
   "metadata": {},
   "outputs": [],
   "source": [
    "def to_string(tweet):\n",
    "    return str(tweet)"
   ]
  },
  {
   "cell_type": "code",
   "execution_count": 153,
   "metadata": {},
   "outputs": [],
   "source": [
    "content_10_cleaned = ' '.join(rate_10['cleaned']).split()\n",
    "content_10_bigram = ' '.join(rate_10['bigram'].apply(to_string)).split()"
   ]
  },
  {
   "cell_type": "code",
   "execution_count": 154,
   "metadata": {
    "scrolled": false
   },
   "outputs": [
    {
     "data": {
      "text/plain": [
       "[('art', 809),\n",
       " ('love', 651),\n",
       " ('great', 551),\n",
       " ('plant', 332),\n",
       " ('lighting', 303),\n",
       " ('rooms', 300),\n",
       " ('depth', 289),\n",
       " ('skype', 287),\n",
       " ('update', 261),\n",
       " ('well', 240),\n",
       " ('flowers', 231),\n",
       " ('good', 196),\n",
       " ('pineapple', 184),\n",
       " ('new', 183),\n",
       " ('@brittlestar', 178),\n",
       " ('pillow', 176),\n",
       " ('one', 173),\n",
       " ('canada', 170),\n",
       " ('win', 166),\n",
       " ('books', 159)]"
      ]
     },
     "execution_count": 154,
     "metadata": {},
     "output_type": "execute_result"
    }
   ],
   "source": [
    "# Find most common words for cleaned\n",
    "counts_cleaned = Counter(content_10_cleaned)\n",
    "counts_cleaned.most_common(20)"
   ]
  },
  {
   "cell_type": "code",
   "execution_count": 155,
   "metadata": {
    "scrolled": false
   },
   "outputs": [
    {
     "data": {
      "text/plain": [
       "[('’s', 477),\n",
       " ('skyperooms', 214),\n",
       " ('@brittlestar', 179),\n",
       " ('it’', 155),\n",
       " ('win@', 143),\n",
       " ('we’', 121),\n",
       " ('canada@', 110),\n",
       " ('update@', 103),\n",
       " ('setup', 101),\n",
       " ('historicskype', 95),\n",
       " ('psacanada', 94),\n",
       " ('happybirthday', 91),\n",
       " ('’t', 90),\n",
       " ('welllit', 72),\n",
       " ('@jheil', 71),\n",
       " ('loveart', 62),\n",
       " ('’re', 60),\n",
       " ('@clairecmc', 59),\n",
       " ('there’', 58),\n",
       " ('’ve', 57)]"
      ]
     },
     "execution_count": 155,
     "metadata": {},
     "output_type": "execute_result"
    }
   ],
   "source": [
    "# Find most common words for bigram\n",
    "counts_bigram = Counter(content_10_bigram)\n",
    "counts_bigram.most_common(20)"
   ]
  },
  {
   "cell_type": "code",
   "execution_count": 156,
   "metadata": {
    "scrolled": true
   },
   "outputs": [
    {
     "data": {
      "text/plain": [
       "[('skyperooms', 214),\n",
       " ('@brittlestar', 179),\n",
       " ('setup', 101),\n",
       " ('historicskype', 95),\n",
       " ('psacanada', 94),\n",
       " ('happybirthday', 91),\n",
       " ('welllit', 72),\n",
       " ('@jheil', 71),\n",
       " ('loveart', 62),\n",
       " ('@clairecmc', 59),\n",
       " ('awards2020', 57),\n",
       " ('bornday', 56),\n",
       " ('@aweissmann', 51),\n",
       " ('nativeamerican', 49),\n",
       " ('holidayupdate', 49),\n",
       " ('@steveschmidtses', 46),\n",
       " ('2020nominees', 42),\n",
       " ('@philiprucker', 41),\n",
       " ('#wearamask', 41),\n",
       " ('artistsskype', 41)]"
      ]
     },
     "execution_count": 156,
     "metadata": {},
     "output_type": "execute_result"
    }
   ],
   "source": [
    "# remove the ones with ' and the ones wth @ at the end\n",
    "content_10_bigram = [x for x in content_10_bigram if (x[0] != \"’\" and x[-1] != \"’\" and x[-1] != \"@\")]\n",
    "counts_bigram = Counter(content_10_bigram)\n",
    "counts_bigram.most_common(20)"
   ]
  },
  {
   "cell_type": "code",
   "execution_count": 157,
   "metadata": {},
   "outputs": [
    {
     "data": {
      "text/plain": [
       "[('skyperooms', 214),\n",
       " ('setup', 101),\n",
       " ('historicskype', 95),\n",
       " ('psacanada', 94),\n",
       " ('happybirthday', 91),\n",
       " ('welllit', 72),\n",
       " ('loveart', 62),\n",
       " ('awards2020', 57),\n",
       " ('bornday', 56),\n",
       " ('nativeamerican', 49),\n",
       " ('holidayupdate', 49),\n",
       " ('2020nominees', 42),\n",
       " ('artistsskype', 41),\n",
       " ('greatartists', 40),\n",
       " ('artdepth', 39),\n",
       " ('artplant', 39),\n",
       " ('plantwork', 39),\n",
       " ('wellcomposed', 37),\n",
       " ('teeshirt', 37),\n",
       " ('greatdepth', 36)]"
      ]
     },
     "execution_count": 157,
     "metadata": {},
     "output_type": "execute_result"
    }
   ],
   "source": [
    "# remove hashtags and the tagged users\n",
    "content_10_bigram = [x for x in content_10_bigram if (x[0] != \"@\" and x[0] != \"#\")]\n",
    "counts_bigram = Counter(content_10_bigram)\n",
    "counts_bigram.most_common(20)"
   ]
  },
  {
   "cell_type": "code",
   "execution_count": 158,
   "metadata": {},
   "outputs": [
    {
     "data": {
      "text/plain": [
       "(704, 9)"
      ]
     },
     "execution_count": 158,
     "metadata": {},
     "output_type": "execute_result"
    }
   ],
   "source": [
    "# Repeat for lowest rating\n",
    "rate_0 = df[df['rating'] == 0]\n",
    "rate_0.shape"
   ]
  },
  {
   "cell_type": "code",
   "execution_count": 159,
   "metadata": {},
   "outputs": [],
   "source": [
    "content_0_cleaned = ' '.join(rate_0['cleaned']).split()\n",
    "content_0_bigram = ' '.join(rate_0['bigram'].apply(to_string)).split()"
   ]
  },
  {
   "cell_type": "code",
   "execution_count": 160,
   "metadata": {},
   "outputs": [
    {
     "data": {
      "text/plain": [
       "[('update', 76),\n",
       " ('hostage', 70),\n",
       " ('not', 63),\n",
       " ('video', 57),\n",
       " ('still', 57),\n",
       " ('no', 48),\n",
       " ('like', 48),\n",
       " ('one', 44),\n",
       " ('#cdnpoli', 41),\n",
       " ('too', 41),\n",
       " ('it’s', 36),\n",
       " ('dumb', 33),\n",
       " ('art', 32),\n",
       " ('nice', 30),\n",
       " ('flag', 28),\n",
       " ('pineapple', 28),\n",
       " ('don’t', 28),\n",
       " ('camera', 27),\n",
       " ('rotten', 25),\n",
       " ('canada', 24)]"
      ]
     },
     "execution_count": 160,
     "metadata": {},
     "output_type": "execute_result"
    }
   ],
   "source": [
    "# Find most common words\n",
    "counts_cleaned = Counter(content_0_cleaned)\n",
    "counts_cleaned.most_common(20)"
   ]
  },
  {
   "cell_type": "code",
   "execution_count": 161,
   "metadata": {},
   "outputs": [
    {
     "data": {
      "text/plain": [
       "[('’s', 125),\n",
       " ('’t', 107),\n",
       " ('hostagevideo', 54),\n",
       " ('#cdnpoli', 41),\n",
       " ('it’', 36),\n",
       " ('don’', 28),\n",
       " ('rottenpineapple', 25),\n",
       " ('update@', 24),\n",
       " ('you’', 18),\n",
       " ('he’', 17),\n",
       " ('@donaldjtrumpjr', 17),\n",
       " ('doesn’', 17),\n",
       " ('we’', 17),\n",
       " ('’re', 16),\n",
       " ('@cpc_hq', 15),\n",
       " ('pineappleupdate', 15),\n",
       " ('dumbdumb', 15),\n",
       " ('’ve', 13),\n",
       " ('@michellerempel', 13),\n",
       " ('@rudygiuliani', 13)]"
      ]
     },
     "execution_count": 161,
     "metadata": {},
     "output_type": "execute_result"
    }
   ],
   "source": [
    "counts_bigram = Counter(content_0_bigram)\n",
    "counts_bigram.most_common(20)"
   ]
  },
  {
   "cell_type": "code",
   "execution_count": 162,
   "metadata": {},
   "outputs": [
    {
     "data": {
      "text/plain": [
       "[('hostagevideo', 54),\n",
       " ('#cdnpoli', 41),\n",
       " ('rottenpineapple', 25),\n",
       " ('@donaldjtrumpjr', 17),\n",
       " ('@cpc_hq', 15),\n",
       " ('pineappleupdate', 15),\n",
       " ('dumbdumb', 15),\n",
       " ('@michellerempel', 13),\n",
       " ('@rudygiuliani', 13),\n",
       " ('politicianupdate', 13),\n",
       " ('@erinotoole', 12),\n",
       " ('cdnpoli#', 12),\n",
       " ('@lindseygrahamsc', 12),\n",
       " ('#abpoli', 12),\n",
       " ('abpoli#', 12),\n",
       " ('cpc_hq#', 11),\n",
       " ('noone', 11),\n",
       " ('suntannedpolitician', 11),\n",
       " ('lookslike', 10),\n",
       " ('#blockedbyrempel', 10)]"
      ]
     },
     "execution_count": 162,
     "metadata": {},
     "output_type": "execute_result"
    }
   ],
   "source": [
    "# remove the ones with ' and the ones wth @ at the end\n",
    "content_0_bigram = [x for x in content_0_bigram if (x[0] != \"’\" and x[-1] != \"’\" and x[-1] != \"@\")]\n",
    "counts_bigram = Counter(content_0_bigram)\n",
    "counts_bigram.most_common(20)"
   ]
  },
  {
   "cell_type": "code",
   "execution_count": 163,
   "metadata": {},
   "outputs": [
    {
     "data": {
      "text/plain": [
       "[('hostagevideo', 54),\n",
       " ('rottenpineapple', 25),\n",
       " ('pineappleupdate', 15),\n",
       " ('dumbdumb', 15),\n",
       " ('politicianupdate', 13),\n",
       " ('noone', 11),\n",
       " ('suntannedpolitician', 11),\n",
       " ('lookslike', 10),\n",
       " ('conspiracytheories', 9),\n",
       " ('cameraheight', 9),\n",
       " ('evangelicaljesus', 9),\n",
       " ('cordviolation', 8),\n",
       " ('evangelicalupdate', 8),\n",
       " ('raisecamera', 7),\n",
       " ('ohdear', 7),\n",
       " ('ownbook', 7),\n",
       " ('thelp', 7),\n",
       " ('updatedumb', 6),\n",
       " ('cameraangle', 6),\n",
       " ('copiesown', 6)]"
      ]
     },
     "execution_count": 163,
     "metadata": {},
     "output_type": "execute_result"
    }
   ],
   "source": [
    "# remove hashtags and the tagged users\n",
    "content_0_bigram = [x for x in content_0_bigram if (x[0] != \"@\" and x[0] != \"#\" and x[-1] != \"#\")]\n",
    "counts_bigram = Counter(content_0_bigram)\n",
    "counts_bigram.most_common(20)"
   ]
  },
  {
   "cell_type": "code",
   "execution_count": null,
   "metadata": {},
   "outputs": [],
   "source": [
    "rate_10"
   ]
  }
 ],
 "metadata": {
  "kernelspec": {
   "display_name": "Python 3",
   "language": "python",
   "name": "python3"
  },
  "language_info": {
   "codemirror_mode": {
    "name": "ipython",
    "version": 3
   },
   "file_extension": ".py",
   "mimetype": "text/x-python",
   "name": "python",
   "nbconvert_exporter": "python",
   "pygments_lexer": "ipython3",
   "version": "3.8.3"
  }
 },
 "nbformat": 4,
 "nbformat_minor": 5
}
